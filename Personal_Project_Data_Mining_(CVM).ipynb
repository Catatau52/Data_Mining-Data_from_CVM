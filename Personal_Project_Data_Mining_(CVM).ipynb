{
  "nbformat": 4,
  "nbformat_minor": 0,
  "metadata": {
    "colab": {
      "provenance": [],
      "authorship_tag": "ABX9TyNpDr7VvCIz1SkDdoMK0bpA"
    },
    "kernelspec": {
      "name": "python3",
      "display_name": "Python 3"
    },
    "language_info": {
      "name": "python"
    }
  },
  "cells": [
    {
      "cell_type": "code",
      "execution_count": null,
      "metadata": {
        "id": "gsKg2rU1J95d"
      },
      "outputs": [],
      "source": [
        "!pip install wget"
      ]
    },
    {
      "cell_type": "code",
      "source": [
        "import pandas as pd\n",
        "import numpy as np\n",
        "import wget\n",
        "import decimal\n",
        "import os\n",
        "from zipfile import ZipFile"
      ],
      "metadata": {
        "id": "Jfh9bP7GKAFU"
      },
      "execution_count": 2,
      "outputs": []
    },
    {
      "cell_type": "markdown",
      "source": [
        "#Acessando a base de dados da CVM"
      ],
      "metadata": {
        "id": "JfNbOLIQKEIr"
      }
    },
    {
      "cell_type": "markdown",
      "source": [
        "download da base itr (trimestral) e dfp (anual) desde 2011 até 2022"
      ],
      "metadata": {
        "id": "bQGCv-VcKITT"
      }
    },
    {
      "cell_type": "code",
      "source": [
        "url_base_itr = 'https://dados.cvm.gov.br/dados/CIA_ABERTA/DOC/ITR/DADOS/'\n",
        "url_base_dfp = 'https://dados.cvm.gov.br/dados/CIA_ABERTA/DOC/DFP/DADOS/'"
      ],
      "metadata": {
        "id": "UQK6YmkKKE7a"
      },
      "execution_count": 3,
      "outputs": []
    },
    {
      "cell_type": "markdown",
      "source": [
        "Criando uma lista com todos os arquivos e baixando"
      ],
      "metadata": {
        "id": "wMGXqtd4LGre"
      }
    },
    {
      "cell_type": "code",
      "source": [
        "arquivos_itr_zip = []\n",
        "arquivos_dfp_zip = []\n",
        "for ano in range(2011,2022):\n",
        "  arquivos_itr_zip.append(f'itr_cia_aberta_{ano}.zip')\n",
        "  arquivos_dfp_zip.append(f'dfp_cia_aberta_{ano}.zip')\n"
      ],
      "metadata": {
        "id": "ieLcrpiiKS4P"
      },
      "execution_count": 4,
      "outputs": []
    },
    {
      "cell_type": "code",
      "source": [
        "for arq in arquivos_itr_zip:\n",
        "  wget.download(url_base_itr+arq)\n",
        "\n",
        "for arq in arquivos_dfp_zip:\n",
        "  wget.download(url_base_dfp+arq)"
      ],
      "metadata": {
        "id": "xGNxfrsKKvc9"
      },
      "execution_count": 5,
      "outputs": []
    },
    {
      "cell_type": "code",
      "source": [
        "for arq in arquivos_itr_zip:\n",
        "  ZipFile(arq, 'r').extractall('ITR')\n",
        "\n",
        "for arq in arquivos_dfp_zip:\n",
        "  ZipFile(arq, 'r').extractall('DFP')"
      ],
      "metadata": {
        "id": "zOx6IAFbLUNN"
      },
      "execution_count": 6,
      "outputs": []
    },
    {
      "cell_type": "markdown",
      "source": [
        "Concatenando todos os resultados em ITR e DFP e gerando CSV"
      ],
      "metadata": {
        "id": "e9nWjSbAPxt0"
      }
    },
    {
      "cell_type": "code",
      "source": [
        "# Criar a pasta\n",
        "os.makedirs(os.path.join('/content', 'Dados'), exist_ok=True)\n",
        "\n",
        "docs = ['BPA_ind','BPP_ind','DRE_ind','DVA_ind']\n",
        "\n",
        "for doc in docs:\n",
        "  arquivo = pd.DataFrame()\n",
        "  for ano in range(2011,2022):\n",
        "    arquivo = pd.concat([arquivo, pd.read_csv(f'ITR/itr_cia_aberta_{doc}_{ano}.csv', sep=';', decimal=',', encoding='ISO-8859-1')])\n",
        "  arquivo.to_csv(f'Dados/itr_cia_aberta_{doc}_2011-2022',index=False)\n",
        "\n",
        "for doc in docs:\n",
        "  arquivo = pd.DataFrame()\n",
        "  for ano in range(2011,2022):\n",
        "    arquivo = pd.concat([arquivo, pd.read_csv(f'DFP/dfp_cia_aberta_{doc}_{ano}.csv', sep=';', decimal=',', encoding='ISO-8859-1')])\n",
        "  arquivo.to_csv(f'Dados/dfp_cia_aberta_{doc}_2011-2022',index=False)"
      ],
      "metadata": {
        "id": "wXmysSz9Leth"
      },
      "execution_count": 7,
      "outputs": []
    },
    {
      "cell_type": "markdown",
      "source": [
        "Carregando data frames"
      ],
      "metadata": {
        "id": "V8-dcxJHUQMF"
      }
    },
    {
      "cell_type": "code",
      "source": [
        "BPA_itr = pd.read_csv(f'/content/Dados/itr_cia_aberta_BPA_ind_2011-2022', sep=',', decimal=',')\n",
        "BPP_itr = pd.read_csv(f'/content/Dados/itr_cia_aberta_BPP_ind_2011-2022', sep=',', decimal=',')\n",
        "DVA_itr = pd.read_csv(f'/content/Dados/itr_cia_aberta_DVA_ind_2011-2022', sep=',', decimal=',')\n",
        "DRE_itr = pd.read_csv(f'/content/Dados/itr_cia_aberta_DRE_ind_2011-2022', sep=',', decimal=',')\n",
        "BPA_dfp = pd.read_csv(f'/content/Dados/dfp_cia_aberta_BPA_ind_2011-2022', sep=',', decimal=',')\n",
        "BPP_dfp = pd.read_csv(f'/content/Dados/dfp_cia_aberta_BPP_ind_2011-2022', sep=',', decimal=',')\n",
        "DVA_dfp = pd.read_csv(f'/content/Dados/dfp_cia_aberta_DVA_ind_2011-2022', sep=',', decimal=',')\n",
        "DRE_dfp = pd.read_csv(f'/content/Dados/dfp_cia_aberta_DRE_ind_2011-2022', sep=',', decimal=',')"
      ],
      "metadata": {
        "id": "X6SYcuCqRk1K"
      },
      "execution_count": 8,
      "outputs": []
    },
    {
      "cell_type": "markdown",
      "source": [
        "#Filtrando dados"
      ],
      "metadata": {
        "id": "dyPLqyDFP4FI"
      }
    },
    {
      "cell_type": "markdown",
      "source": [
        "filtrandos os dados trimestrais relevantes para BPA"
      ],
      "metadata": {
        "id": "B8qsqz9YP6Uo"
      }
    },
    {
      "cell_type": "code",
      "source": [
        "BPA_itr = BPA_itr.drop(['VERSAO','GRUPO_DFP','MOEDA','ST_CONTA_FIXA'],axis=1)\n",
        "#BPA_itr = BPA_itr[BPA_itr['CD_CONTA'].str.len() <= 7]\n",
        "\n",
        "#reodena colunas\n",
        "BPA_itr = BPA_itr[['CNPJ_CIA', 'DENOM_CIA', 'CD_CVM', 'DT_REFER','DT_FIM_EXERC', 'ESCALA_MOEDA', 'CD_CONTA', 'DS_CONTA', 'VL_CONTA','ORDEM_EXERC']]\n",
        "\n",
        "# Defina a lista de valores que deseja manter\n",
        "valores_a_manter = ['Ativo Total','Ativo Circulante','Disponibilidades','Caixa e Equivalentes de Caixa']\n",
        "# Mantenha as linhas que contêm os valores da lista na coluna 'DS_CONTA' e exclua as demais\n",
        "BPA_itr = BPA_itr.loc[BPA_itr['DS_CONTA'].isin(valores_a_manter)]\n",
        "\n",
        "#separando os resultados\n",
        "BPA_itr = BPA_itr[BPA_itr['ORDEM_EXERC'] == 'ÚLTIMO']\n",
        "BPA_itr = BPA_itr.drop(['ORDEM_EXERC'],axis=1)"
      ],
      "metadata": {
        "id": "xo2CQAOTUVU9"
      },
      "execution_count": 9,
      "outputs": []
    },
    {
      "cell_type": "code",
      "source": [
        "BPA_itr['CNPJ_CIA'].value_counts()"
      ],
      "metadata": {
        "colab": {
          "base_uri": "https://localhost:8080/"
        },
        "id": "-WKeK46ZVNly",
        "outputId": "6dcaf78f-39b1-4faf-c409-a90082e41d0c"
      },
      "execution_count": 10,
      "outputs": [
        {
          "output_type": "execute_result",
          "data": {
            "text/plain": [
              "73.178.600/0001-18    124\n",
              "01.616.929/0001-02    122\n",
              "22.677.520/0001-76    121\n",
              "07.040.108/0001-57    121\n",
              "61.065.298/0001-02    120\n",
              "                     ... \n",
              "41.096.674/0001-19      3\n",
              "33.937.681/0001-78      3\n",
              "67.915.785/0001-01      3\n",
              "09.347.916/0001-97      3\n",
              "24.410.913/0001-44      2\n",
              "Name: CNPJ_CIA, Length: 1080, dtype: int64"
            ]
          },
          "metadata": {},
          "execution_count": 10
        }
      ]
    },
    {
      "cell_type": "code",
      "source": [
        "BPA_dfp = BPA_dfp.drop(['VERSAO','GRUPO_DFP','MOEDA','ST_CONTA_FIXA'],axis=1)\n",
        "#BPA_itr = BPA_itr[BPA_itr['CD_CONTA'].str.len() <= 7]\n",
        "\n",
        "#reodena colunas\n",
        "BPA_dfp = BPA_dfp[['CNPJ_CIA', 'DENOM_CIA', 'CD_CVM', 'DT_REFER','DT_FIM_EXERC', 'ESCALA_MOEDA', 'CD_CONTA', 'DS_CONTA', 'VL_CONTA','ORDEM_EXERC']]\n",
        "\n",
        "# Defina a lista de valores que deseja manter\n",
        "valores_a_manter = ['Ativo Total','Ativo Circulante','Disponibilidades','Caixa e Equivalentes de Caixa']\n",
        "# Mantenha as linhas que contêm os valores da lista na coluna 'DS_CONTA' e exclua as demais\n",
        "BPA_dfp = BPA_dfp.loc[BPA_dfp['DS_CONTA'].isin(valores_a_manter)]\n",
        "\n",
        "#separando os resultados\n",
        "BPA_dfp = BPA_dfp[BPA_dfp['ORDEM_EXERC'] == 'ÚLTIMO']\n",
        "BPA_dfp = BPA_dfp.drop(['ORDEM_EXERC'],axis=1)"
      ],
      "metadata": {
        "id": "w74nuTtvVS4-"
      },
      "execution_count": 11,
      "outputs": []
    },
    {
      "cell_type": "code",
      "source": [
        "BPA_dfp['CNPJ_CIA'].value_counts()"
      ],
      "metadata": {
        "colab": {
          "base_uri": "https://localhost:8080/"
        },
        "id": "V3jylJgzVeyA",
        "outputId": "d88367de-2b94-4b24-ed1e-19979debfe16"
      },
      "execution_count": 12,
      "outputs": [
        {
          "output_type": "execute_result",
          "data": {
            "text/plain": [
              "61.065.298/0001-02    44\n",
              "01.616.929/0001-02    44\n",
              "73.178.600/0001-18    44\n",
              "89.096.457/0001-55    42\n",
              "09.116.278/0001-01    42\n",
              "                      ..\n",
              "10.846.981/0001-46     3\n",
              "22.131.736/0001-31     3\n",
              "24.410.913/0001-44     2\n",
              "01.355.994/0001-21     2\n",
              "16.838.421/0001-26     2\n",
              "Name: CNPJ_CIA, Length: 1080, dtype: int64"
            ]
          },
          "metadata": {},
          "execution_count": 12
        }
      ]
    },
    {
      "cell_type": "markdown",
      "source": [
        "filtrandos os dados trimestrais relevantes para BPP"
      ],
      "metadata": {
        "id": "UmhA065rVmY6"
      }
    },
    {
      "cell_type": "code",
      "source": [
        "BPP_itr = BPP_itr.drop(['VERSAO','GRUPO_DFP','MOEDA','ST_CONTA_FIXA'],axis=1)\n",
        "\n",
        "#reodena colunas\n",
        "BPP_itr = BPP_itr[['CNPJ_CIA', 'DENOM_CIA', 'CD_CVM', 'DT_REFER','DT_FIM_EXERC', 'ESCALA_MOEDA', 'CD_CONTA', 'DS_CONTA', 'VL_CONTA','ORDEM_EXERC']]\n",
        "\n",
        "# Defina a lista de valores que deseja manter\n",
        "valores_a_manter = ['Passivo Total','Passivo Circulante','Patrimônio Líquido']\n",
        "# Mantenha as linhas que contêm os valores da lista na coluna 'DS_CONTA' e exclua as demais\n",
        "BPP_itr = BPP_itr.loc[BPP_itr['DS_CONTA'].isin(valores_a_manter)]\n",
        "\n",
        "#separando os resultados\n",
        "BPP_itr = BPP_itr[BPP_itr['ORDEM_EXERC'] == 'ÚLTIMO']\n",
        "BPP_itr = BPP_itr.drop(['ORDEM_EXERC'],axis=1)"
      ],
      "metadata": {
        "id": "osdOiPkjVgg1"
      },
      "execution_count": 13,
      "outputs": []
    },
    {
      "cell_type": "code",
      "source": [
        "BPP_itr['CNPJ_CIA'].value_counts()"
      ],
      "metadata": {
        "colab": {
          "base_uri": "https://localhost:8080/"
        },
        "id": "tKKsY1PUV2J2",
        "outputId": "bc32b9fe-ddee-41b7-adb9-949248c35841"
      },
      "execution_count": 14,
      "outputs": [
        {
          "output_type": "execute_result",
          "data": {
            "text/plain": [
              "02.397.080/0001-96    102\n",
              "15.101.405/0001-93    102\n",
              "00.192.769/0001-59    102\n",
              "02.291.077/0001-93    102\n",
              "16.590.234/0001-76    102\n",
              "                     ... \n",
              "41.096.674/0001-19      3\n",
              "33.937.681/0001-78      3\n",
              "67.915.785/0001-01      3\n",
              "09.347.916/0001-97      3\n",
              "24.410.913/0001-44      2\n",
              "Name: CNPJ_CIA, Length: 1080, dtype: int64"
            ]
          },
          "metadata": {},
          "execution_count": 14
        }
      ]
    },
    {
      "cell_type": "code",
      "source": [
        "BPP_dfp = BPP_dfp.drop(['VERSAO','GRUPO_DFP','MOEDA','ST_CONTA_FIXA'],axis=1)\n",
        "\n",
        "#reodena colunas\n",
        "BPP_dfp = BPP_dfp[['CNPJ_CIA', 'DENOM_CIA', 'CD_CVM', 'DT_REFER','DT_FIM_EXERC', 'ESCALA_MOEDA', 'CD_CONTA', 'DS_CONTA', 'VL_CONTA','ORDEM_EXERC']]\n",
        "\n",
        "# Defina a lista de valores que deseja manter\n",
        "valores_a_manter = ['Passivo Total','Passivo Circulante','Patrimônio Líquido']\n",
        "# Mantenha as linhas que contêm os valores da lista na coluna 'DS_CONTA' e exclua as demais\n",
        "BPP_dfp = BPP_dfp.loc[BPP_dfp['DS_CONTA'].isin(valores_a_manter)]\n",
        "\n",
        "#separando os resultados\n",
        "BPP_dfp = BPP_dfp[BPP_dfp['ORDEM_EXERC'] == 'ÚLTIMO']\n",
        "BPP_dfp = BPP_dfp.drop(['ORDEM_EXERC'],axis=1)"
      ],
      "metadata": {
        "id": "VvURBTlAWGex"
      },
      "execution_count": 15,
      "outputs": []
    },
    {
      "cell_type": "code",
      "source": [
        "BPP_dfp['CNPJ_CIA'].value_counts()"
      ],
      "metadata": {
        "colab": {
          "base_uri": "https://localhost:8080/"
        },
        "id": "oFGeF-LAWJIu",
        "outputId": "f1ac8f55-033f-4f53-b238-c5fe6cc75b12"
      },
      "execution_count": 16,
      "outputs": [
        {
          "output_type": "execute_result",
          "data": {
            "text/plain": [
              "61.082.004/0001-50    36\n",
              "50.746.577/0001-15    36\n",
              "08.764.621/0001-53    33\n",
              "08.935.054/0001-50    33\n",
              "51.466.860/0001-56    33\n",
              "                      ..\n",
              "60.631.090/0001-40     3\n",
              "07.809.905/0001-56     3\n",
              "87.870.952/0001-44     3\n",
              "16.838.421/0001-26     2\n",
              "24.410.913/0001-44     2\n",
              "Name: CNPJ_CIA, Length: 1080, dtype: int64"
            ]
          },
          "metadata": {},
          "execution_count": 16
        }
      ]
    },
    {
      "cell_type": "markdown",
      "source": [
        "filtrandos os dados trimestrais relevantes para DVA"
      ],
      "metadata": {
        "id": "I0Q0CXwKXr8f"
      }
    },
    {
      "cell_type": "code",
      "source": [
        "DVA_itr = DVA_itr.drop(['VERSAO','GRUPO_DFP','MOEDA','ST_CONTA_FIXA'],axis=1)\n",
        "\n",
        "#reodena colunas\n",
        "DVA_itr = DVA_itr[['CNPJ_CIA', 'DENOM_CIA', 'CD_CVM', 'DT_REFER','DT_FIM_EXERC', 'ESCALA_MOEDA', 'CD_CONTA', 'DS_CONTA', 'VL_CONTA','ORDEM_EXERC']]\n",
        "\n",
        "# Defina a lista de valores que deseja manter\n",
        "valores_a_manter = ['Juros sobre o Capital Próprio','Dividendos']\n",
        "# Mantenha as linhas que contêm os valores da lista na coluna 'DS_CONTA' e exclua as demais\n",
        "DVA_itr = DVA_itr.loc[DVA_itr['DS_CONTA'].isin(valores_a_manter)]\n",
        "\n",
        "#separando os resultados\n",
        "DVA_itr = DVA_itr[DVA_itr['ORDEM_EXERC'] == 'ÚLTIMO']\n",
        "DVA_itr = DVA_itr.drop(['ORDEM_EXERC'],axis=1)"
      ],
      "metadata": {
        "id": "z5NIZqW6XC68"
      },
      "execution_count": 17,
      "outputs": []
    },
    {
      "cell_type": "code",
      "source": [
        "DVA_itr['CNPJ_CIA'].value_counts()"
      ],
      "metadata": {
        "colab": {
          "base_uri": "https://localhost:8080/"
        },
        "id": "SmCHi0kqXGBB",
        "outputId": "5a4dee76-e477-4949-a1d1-8f9d58681c25"
      },
      "execution_count": 18,
      "outputs": [
        {
          "output_type": "execute_result",
          "data": {
            "text/plain": [
              "00.336.701/0001-04    77\n",
              "45.987.245/0001-92    70\n",
              "01.104.937/0001-70    70\n",
              "00.359.742/0001-08    69\n",
              "02.397.080/0001-96    68\n",
              "                      ..\n",
              "41.096.674/0001-19     2\n",
              "33.937.681/0001-78     2\n",
              "40.760.921/0001-77     2\n",
              "51.468.056/0001-06     2\n",
              "60.394.723/0001-44     2\n",
              "Name: CNPJ_CIA, Length: 1080, dtype: int64"
            ]
          },
          "metadata": {},
          "execution_count": 18
        }
      ]
    },
    {
      "cell_type": "code",
      "source": [
        "DVA_dfp = DVA_dfp.drop(['VERSAO','GRUPO_DFP','MOEDA','ST_CONTA_FIXA'],axis=1)\n",
        "\n",
        "#reodena colunas\n",
        "DVA_dfp = DVA_dfp[['CNPJ_CIA', 'DENOM_CIA', 'CD_CVM', 'DT_REFER','DT_FIM_EXERC', 'ESCALA_MOEDA', 'CD_CONTA', 'DS_CONTA', 'VL_CONTA','ORDEM_EXERC']]\n",
        "\n",
        "# Defina a lista de valores que deseja manter\n",
        "valores_a_manter = ['Juros sobre o Capital Próprio','Dividendos']\n",
        "# Mantenha as linhas que contêm os valores da lista na coluna 'DS_CONTA' e exclua as demais\n",
        "DVA_dfp = DVA_dfp.loc[DVA_dfp['DS_CONTA'].isin(valores_a_manter)]\n",
        "\n",
        "#separando os resultados\n",
        "DVA_dfp = DVA_dfp[DVA_dfp['ORDEM_EXERC'] == 'ÚLTIMO']\n",
        "DVA_dfp = DVA_dfp.drop(['ORDEM_EXERC'],axis=1)"
      ],
      "metadata": {
        "id": "fY132kU0XKgU"
      },
      "execution_count": 19,
      "outputs": []
    },
    {
      "cell_type": "code",
      "source": [
        "DVA_dfp"
      ],
      "metadata": {
        "colab": {
          "base_uri": "https://localhost:8080/",
          "height": 424
        },
        "id": "KvvFzSm8IaHA",
        "outputId": "ffe8054d-6e55-4d77-ccbe-a78ea3938537"
      },
      "execution_count": 20,
      "outputs": [
        {
          "output_type": "execute_result",
          "data": {
            "text/plain": [
              "                  CNPJ_CIA                             DENOM_CIA  CD_CVM  \\\n",
              "87      00.000.000/0001-91                       BCO BRASIL S.A.    1023   \n",
              "89      00.000.000/0001-91                       BCO BRASIL S.A.    1023   \n",
              "173     00.000.208/0001-00              BRB BCO DE BRASILIA S.A.   14206   \n",
              "175     00.000.208/0001-00              BRB BCO DE BRASILIA S.A.   14206   \n",
              "263     00.001.180/0001-26  CENTRAIS ELET BRAS S.A. - ELETROBRAS    2437   \n",
              "...                    ...                                   ...     ...   \n",
              "594647  96.418.264/0218-02                LOJAS QUERO QUERO S.A.   25038   \n",
              "594723  97.191.902/0001-94                CONSERVAS ODERICH S.A.    4693   \n",
              "594725  97.191.902/0001-94                CONSERVAS ODERICH S.A.    4693   \n",
              "594803  97.837.181/0001-47                            DEXCO S.A.   21091   \n",
              "594805  97.837.181/0001-47                            DEXCO S.A.   21091   \n",
              "\n",
              "          DT_REFER DT_FIM_EXERC ESCALA_MOEDA    CD_CONTA  \\\n",
              "87      2011-12-31   2011-12-31          MIL  7.09.04.01   \n",
              "89      2011-12-31   2011-12-31          MIL  7.09.04.02   \n",
              "173     2011-12-31   2011-12-31          MIL  7.09.04.01   \n",
              "175     2011-12-31   2011-12-31          MIL  7.09.04.02   \n",
              "263     2011-12-31   2011-12-31          MIL  7.08.04.01   \n",
              "...            ...          ...          ...         ...   \n",
              "594647  2021-12-31   2021-12-31          MIL  7.08.04.02   \n",
              "594723  2021-12-31   2021-12-31          MIL  7.08.04.01   \n",
              "594725  2021-12-31   2021-12-31          MIL  7.08.04.02   \n",
              "594803  2021-12-31   2021-12-31          MIL  7.08.04.01   \n",
              "594805  2021-12-31   2021-12-31          MIL  7.08.04.02   \n",
              "\n",
              "                             DS_CONTA            VL_CONTA  \n",
              "87      Juros sobre o Capital Próprio  3051308.0000000000  \n",
              "89                         Dividendos  1847625.0000000000  \n",
              "173     Juros sobre o Capital Próprio    21612.0000000000  \n",
              "175                        Dividendos      319.0000000000  \n",
              "263     Juros sobre o Capital Próprio        0.0000000000  \n",
              "...                               ...                 ...  \n",
              "594647                     Dividendos        0.0000000000  \n",
              "594723  Juros sobre o Capital Próprio    12698.0000000000  \n",
              "594725                     Dividendos        0.0000000000  \n",
              "594803  Juros sobre o Capital Próprio   878401.0000000000  \n",
              "594805                     Dividendos        0.0000000000  \n",
              "\n",
              "[14560 rows x 9 columns]"
            ],
            "text/html": [
              "\n",
              "\n",
              "  <div id=\"df-7a9ab7f7-7b5f-4290-8aed-4b2e648802a3\">\n",
              "    <div class=\"colab-df-container\">\n",
              "      <div>\n",
              "<style scoped>\n",
              "    .dataframe tbody tr th:only-of-type {\n",
              "        vertical-align: middle;\n",
              "    }\n",
              "\n",
              "    .dataframe tbody tr th {\n",
              "        vertical-align: top;\n",
              "    }\n",
              "\n",
              "    .dataframe thead th {\n",
              "        text-align: right;\n",
              "    }\n",
              "</style>\n",
              "<table border=\"1\" class=\"dataframe\">\n",
              "  <thead>\n",
              "    <tr style=\"text-align: right;\">\n",
              "      <th></th>\n",
              "      <th>CNPJ_CIA</th>\n",
              "      <th>DENOM_CIA</th>\n",
              "      <th>CD_CVM</th>\n",
              "      <th>DT_REFER</th>\n",
              "      <th>DT_FIM_EXERC</th>\n",
              "      <th>ESCALA_MOEDA</th>\n",
              "      <th>CD_CONTA</th>\n",
              "      <th>DS_CONTA</th>\n",
              "      <th>VL_CONTA</th>\n",
              "    </tr>\n",
              "  </thead>\n",
              "  <tbody>\n",
              "    <tr>\n",
              "      <th>87</th>\n",
              "      <td>00.000.000/0001-91</td>\n",
              "      <td>BCO BRASIL S.A.</td>\n",
              "      <td>1023</td>\n",
              "      <td>2011-12-31</td>\n",
              "      <td>2011-12-31</td>\n",
              "      <td>MIL</td>\n",
              "      <td>7.09.04.01</td>\n",
              "      <td>Juros sobre o Capital Próprio</td>\n",
              "      <td>3051308.0000000000</td>\n",
              "    </tr>\n",
              "    <tr>\n",
              "      <th>89</th>\n",
              "      <td>00.000.000/0001-91</td>\n",
              "      <td>BCO BRASIL S.A.</td>\n",
              "      <td>1023</td>\n",
              "      <td>2011-12-31</td>\n",
              "      <td>2011-12-31</td>\n",
              "      <td>MIL</td>\n",
              "      <td>7.09.04.02</td>\n",
              "      <td>Dividendos</td>\n",
              "      <td>1847625.0000000000</td>\n",
              "    </tr>\n",
              "    <tr>\n",
              "      <th>173</th>\n",
              "      <td>00.000.208/0001-00</td>\n",
              "      <td>BRB BCO DE BRASILIA S.A.</td>\n",
              "      <td>14206</td>\n",
              "      <td>2011-12-31</td>\n",
              "      <td>2011-12-31</td>\n",
              "      <td>MIL</td>\n",
              "      <td>7.09.04.01</td>\n",
              "      <td>Juros sobre o Capital Próprio</td>\n",
              "      <td>21612.0000000000</td>\n",
              "    </tr>\n",
              "    <tr>\n",
              "      <th>175</th>\n",
              "      <td>00.000.208/0001-00</td>\n",
              "      <td>BRB BCO DE BRASILIA S.A.</td>\n",
              "      <td>14206</td>\n",
              "      <td>2011-12-31</td>\n",
              "      <td>2011-12-31</td>\n",
              "      <td>MIL</td>\n",
              "      <td>7.09.04.02</td>\n",
              "      <td>Dividendos</td>\n",
              "      <td>319.0000000000</td>\n",
              "    </tr>\n",
              "    <tr>\n",
              "      <th>263</th>\n",
              "      <td>00.001.180/0001-26</td>\n",
              "      <td>CENTRAIS ELET BRAS S.A. - ELETROBRAS</td>\n",
              "      <td>2437</td>\n",
              "      <td>2011-12-31</td>\n",
              "      <td>2011-12-31</td>\n",
              "      <td>MIL</td>\n",
              "      <td>7.08.04.01</td>\n",
              "      <td>Juros sobre o Capital Próprio</td>\n",
              "      <td>0.0000000000</td>\n",
              "    </tr>\n",
              "    <tr>\n",
              "      <th>...</th>\n",
              "      <td>...</td>\n",
              "      <td>...</td>\n",
              "      <td>...</td>\n",
              "      <td>...</td>\n",
              "      <td>...</td>\n",
              "      <td>...</td>\n",
              "      <td>...</td>\n",
              "      <td>...</td>\n",
              "      <td>...</td>\n",
              "    </tr>\n",
              "    <tr>\n",
              "      <th>594647</th>\n",
              "      <td>96.418.264/0218-02</td>\n",
              "      <td>LOJAS QUERO QUERO S.A.</td>\n",
              "      <td>25038</td>\n",
              "      <td>2021-12-31</td>\n",
              "      <td>2021-12-31</td>\n",
              "      <td>MIL</td>\n",
              "      <td>7.08.04.02</td>\n",
              "      <td>Dividendos</td>\n",
              "      <td>0.0000000000</td>\n",
              "    </tr>\n",
              "    <tr>\n",
              "      <th>594723</th>\n",
              "      <td>97.191.902/0001-94</td>\n",
              "      <td>CONSERVAS ODERICH S.A.</td>\n",
              "      <td>4693</td>\n",
              "      <td>2021-12-31</td>\n",
              "      <td>2021-12-31</td>\n",
              "      <td>MIL</td>\n",
              "      <td>7.08.04.01</td>\n",
              "      <td>Juros sobre o Capital Próprio</td>\n",
              "      <td>12698.0000000000</td>\n",
              "    </tr>\n",
              "    <tr>\n",
              "      <th>594725</th>\n",
              "      <td>97.191.902/0001-94</td>\n",
              "      <td>CONSERVAS ODERICH S.A.</td>\n",
              "      <td>4693</td>\n",
              "      <td>2021-12-31</td>\n",
              "      <td>2021-12-31</td>\n",
              "      <td>MIL</td>\n",
              "      <td>7.08.04.02</td>\n",
              "      <td>Dividendos</td>\n",
              "      <td>0.0000000000</td>\n",
              "    </tr>\n",
              "    <tr>\n",
              "      <th>594803</th>\n",
              "      <td>97.837.181/0001-47</td>\n",
              "      <td>DEXCO S.A.</td>\n",
              "      <td>21091</td>\n",
              "      <td>2021-12-31</td>\n",
              "      <td>2021-12-31</td>\n",
              "      <td>MIL</td>\n",
              "      <td>7.08.04.01</td>\n",
              "      <td>Juros sobre o Capital Próprio</td>\n",
              "      <td>878401.0000000000</td>\n",
              "    </tr>\n",
              "    <tr>\n",
              "      <th>594805</th>\n",
              "      <td>97.837.181/0001-47</td>\n",
              "      <td>DEXCO S.A.</td>\n",
              "      <td>21091</td>\n",
              "      <td>2021-12-31</td>\n",
              "      <td>2021-12-31</td>\n",
              "      <td>MIL</td>\n",
              "      <td>7.08.04.02</td>\n",
              "      <td>Dividendos</td>\n",
              "      <td>0.0000000000</td>\n",
              "    </tr>\n",
              "  </tbody>\n",
              "</table>\n",
              "<p>14560 rows × 9 columns</p>\n",
              "</div>\n",
              "      <button class=\"colab-df-convert\" onclick=\"convertToInteractive('df-7a9ab7f7-7b5f-4290-8aed-4b2e648802a3')\"\n",
              "              title=\"Convert this dataframe to an interactive table.\"\n",
              "              style=\"display:none;\">\n",
              "\n",
              "  <svg xmlns=\"http://www.w3.org/2000/svg\" height=\"24px\"viewBox=\"0 0 24 24\"\n",
              "       width=\"24px\">\n",
              "    <path d=\"M0 0h24v24H0V0z\" fill=\"none\"/>\n",
              "    <path d=\"M18.56 5.44l.94 2.06.94-2.06 2.06-.94-2.06-.94-.94-2.06-.94 2.06-2.06.94zm-11 1L8.5 8.5l.94-2.06 2.06-.94-2.06-.94L8.5 2.5l-.94 2.06-2.06.94zm10 10l.94 2.06.94-2.06 2.06-.94-2.06-.94-.94-2.06-.94 2.06-2.06.94z\"/><path d=\"M17.41 7.96l-1.37-1.37c-.4-.4-.92-.59-1.43-.59-.52 0-1.04.2-1.43.59L10.3 9.45l-7.72 7.72c-.78.78-.78 2.05 0 2.83L4 21.41c.39.39.9.59 1.41.59.51 0 1.02-.2 1.41-.59l7.78-7.78 2.81-2.81c.8-.78.8-2.07 0-2.86zM5.41 20L4 18.59l7.72-7.72 1.47 1.35L5.41 20z\"/>\n",
              "  </svg>\n",
              "      </button>\n",
              "\n",
              "\n",
              "\n",
              "    <div id=\"df-d64e14a8-849a-4e26-85dc-2b01a3bafa09\">\n",
              "      <button class=\"colab-df-quickchart\" onclick=\"quickchart('df-d64e14a8-849a-4e26-85dc-2b01a3bafa09')\"\n",
              "              title=\"Suggest charts.\"\n",
              "              style=\"display:none;\">\n",
              "\n",
              "<svg xmlns=\"http://www.w3.org/2000/svg\" height=\"24px\"viewBox=\"0 0 24 24\"\n",
              "     width=\"24px\">\n",
              "    <g>\n",
              "        <path d=\"M19 3H5c-1.1 0-2 .9-2 2v14c0 1.1.9 2 2 2h14c1.1 0 2-.9 2-2V5c0-1.1-.9-2-2-2zM9 17H7v-7h2v7zm4 0h-2V7h2v10zm4 0h-2v-4h2v4z\"/>\n",
              "    </g>\n",
              "</svg>\n",
              "      </button>\n",
              "    </div>\n",
              "\n",
              "<style>\n",
              "  .colab-df-quickchart {\n",
              "    background-color: #E8F0FE;\n",
              "    border: none;\n",
              "    border-radius: 50%;\n",
              "    cursor: pointer;\n",
              "    display: none;\n",
              "    fill: #1967D2;\n",
              "    height: 32px;\n",
              "    padding: 0 0 0 0;\n",
              "    width: 32px;\n",
              "  }\n",
              "\n",
              "  .colab-df-quickchart:hover {\n",
              "    background-color: #E2EBFA;\n",
              "    box-shadow: 0px 1px 2px rgba(60, 64, 67, 0.3), 0px 1px 3px 1px rgba(60, 64, 67, 0.15);\n",
              "    fill: #174EA6;\n",
              "  }\n",
              "\n",
              "  [theme=dark] .colab-df-quickchart {\n",
              "    background-color: #3B4455;\n",
              "    fill: #D2E3FC;\n",
              "  }\n",
              "\n",
              "  [theme=dark] .colab-df-quickchart:hover {\n",
              "    background-color: #434B5C;\n",
              "    box-shadow: 0px 1px 3px 1px rgba(0, 0, 0, 0.15);\n",
              "    filter: drop-shadow(0px 1px 2px rgba(0, 0, 0, 0.3));\n",
              "    fill: #FFFFFF;\n",
              "  }\n",
              "</style>\n",
              "\n",
              "    <script>\n",
              "      async function quickchart(key) {\n",
              "        const containerElement = document.querySelector('#' + key);\n",
              "        const charts = await google.colab.kernel.invokeFunction(\n",
              "            'suggestCharts', [key], {});\n",
              "      }\n",
              "    </script>\n",
              "\n",
              "      <script>\n",
              "\n",
              "function displayQuickchartButton(domScope) {\n",
              "  let quickchartButtonEl =\n",
              "    domScope.querySelector('#df-d64e14a8-849a-4e26-85dc-2b01a3bafa09 button.colab-df-quickchart');\n",
              "  quickchartButtonEl.style.display =\n",
              "    google.colab.kernel.accessAllowed ? 'block' : 'none';\n",
              "}\n",
              "\n",
              "        displayQuickchartButton(document);\n",
              "      </script>\n",
              "      <style>\n",
              "    .colab-df-container {\n",
              "      display:flex;\n",
              "      flex-wrap:wrap;\n",
              "      gap: 12px;\n",
              "    }\n",
              "\n",
              "    .colab-df-convert {\n",
              "      background-color: #E8F0FE;\n",
              "      border: none;\n",
              "      border-radius: 50%;\n",
              "      cursor: pointer;\n",
              "      display: none;\n",
              "      fill: #1967D2;\n",
              "      height: 32px;\n",
              "      padding: 0 0 0 0;\n",
              "      width: 32px;\n",
              "    }\n",
              "\n",
              "    .colab-df-convert:hover {\n",
              "      background-color: #E2EBFA;\n",
              "      box-shadow: 0px 1px 2px rgba(60, 64, 67, 0.3), 0px 1px 3px 1px rgba(60, 64, 67, 0.15);\n",
              "      fill: #174EA6;\n",
              "    }\n",
              "\n",
              "    [theme=dark] .colab-df-convert {\n",
              "      background-color: #3B4455;\n",
              "      fill: #D2E3FC;\n",
              "    }\n",
              "\n",
              "    [theme=dark] .colab-df-convert:hover {\n",
              "      background-color: #434B5C;\n",
              "      box-shadow: 0px 1px 3px 1px rgba(0, 0, 0, 0.15);\n",
              "      filter: drop-shadow(0px 1px 2px rgba(0, 0, 0, 0.3));\n",
              "      fill: #FFFFFF;\n",
              "    }\n",
              "  </style>\n",
              "\n",
              "      <script>\n",
              "        const buttonEl =\n",
              "          document.querySelector('#df-7a9ab7f7-7b5f-4290-8aed-4b2e648802a3 button.colab-df-convert');\n",
              "        buttonEl.style.display =\n",
              "          google.colab.kernel.accessAllowed ? 'block' : 'none';\n",
              "\n",
              "        async function convertToInteractive(key) {\n",
              "          const element = document.querySelector('#df-7a9ab7f7-7b5f-4290-8aed-4b2e648802a3');\n",
              "          const dataTable =\n",
              "            await google.colab.kernel.invokeFunction('convertToInteractive',\n",
              "                                                     [key], {});\n",
              "          if (!dataTable) return;\n",
              "\n",
              "          const docLinkHtml = 'Like what you see? Visit the ' +\n",
              "            '<a target=\"_blank\" href=https://colab.research.google.com/notebooks/data_table.ipynb>data table notebook</a>'\n",
              "            + ' to learn more about interactive tables.';\n",
              "          element.innerHTML = '';\n",
              "          dataTable['output_type'] = 'display_data';\n",
              "          await google.colab.output.renderOutput(dataTable, element);\n",
              "          const docLink = document.createElement('div');\n",
              "          docLink.innerHTML = docLinkHtml;\n",
              "          element.appendChild(docLink);\n",
              "        }\n",
              "      </script>\n",
              "    </div>\n",
              "  </div>\n"
            ]
          },
          "metadata": {},
          "execution_count": 20
        }
      ]
    },
    {
      "cell_type": "code",
      "source": [
        "DVA_dfp['CNPJ_CIA'].value_counts()"
      ],
      "metadata": {
        "colab": {
          "base_uri": "https://localhost:8080/"
        },
        "id": "t-4vz7GWXN8e",
        "outputId": "b81339ce-00a9-42d1-8684-b2c1adfad358"
      },
      "execution_count": 21,
      "outputs": [
        {
          "output_type": "execute_result",
          "data": {
            "text/plain": [
              "01.104.937/0001-70    33\n",
              "00.359.742/0001-08    27\n",
              "71.476.527/0001-35    25\n",
              "59.789.545/0001-71    25\n",
              "50.746.577/0001-15    24\n",
              "                      ..\n",
              "33.147.315/0001-15     2\n",
              "20.553.221/0001-02     2\n",
              "03.392.498/0001-73     2\n",
              "03.076.274/0001-52     2\n",
              "87.870.952/0001-44     2\n",
              "Name: CNPJ_CIA, Length: 1078, dtype: int64"
            ]
          },
          "metadata": {},
          "execution_count": 21
        }
      ]
    },
    {
      "cell_type": "markdown",
      "source": [
        "\n",
        "filtrandos os dados trimestrais relevantes para DRE"
      ],
      "metadata": {
        "id": "hrpngtRqXZd3"
      }
    },
    {
      "cell_type": "code",
      "source": [
        "DRE_itr = DRE_itr.drop(['VERSAO','GRUPO_DFP','MOEDA','ST_CONTA_FIXA'],axis=1)\n",
        "\n",
        "#reodena colunas\n",
        "DRE_itr = DRE_itr[['CNPJ_CIA', 'DENOM_CIA', 'CD_CVM', 'DT_REFER','DT_INI_EXERC','DT_FIM_EXERC', 'ESCALA_MOEDA', 'CD_CONTA', 'DS_CONTA', 'VL_CONTA','ORDEM_EXERC']]\n",
        "\n",
        "# Defina a lista de valores que deseja manter\n",
        "valores_a_manter = ['3.01','3.03','3.05','3.07','3.11','3.13','3.99']\n",
        "# Mantenha as linhas que contêm os valores da lista na coluna 'DS_CONTA' e exclua as demais\n",
        "DRE_itr = DRE_itr.loc[DRE_itr['CD_CONTA'].isin(valores_a_manter)]\n",
        "\n",
        "#separando os resultados\n",
        "DRE_itr = DRE_itr[DRE_itr['ORDEM_EXERC'] == 'ÚLTIMO']\n",
        "DRE_itr = DRE_itr.drop(['ORDEM_EXERC'],axis=1)"
      ],
      "metadata": {
        "id": "7UVSt3bRXaGJ"
      },
      "execution_count": 22,
      "outputs": []
    },
    {
      "cell_type": "code",
      "source": [
        "DRE_itr['CNPJ_CIA'].value_counts()"
      ],
      "metadata": {
        "colab": {
          "base_uri": "https://localhost:8080/"
        },
        "id": "beoNHKGRXgNY",
        "outputId": "87a559c0-9c0d-452b-8b1e-c2b930673660"
      },
      "execution_count": 23,
      "outputs": [
        {
          "output_type": "execute_result",
          "data": {
            "text/plain": [
              "30.306.294/0001-45    392\n",
              "62.144.175/0001-20    385\n",
              "65.654.303/0001-73    385\n",
              "17.184.037/0001-10    385\n",
              "33.040.601/0001-87    385\n",
              "                     ... \n",
              "03.468.802/0001-19      6\n",
              "33.066.408/0001-15      6\n",
              "60.394.723/0001-44      6\n",
              "26.643.756/0001-42      6\n",
              "13.552.070/0001-02      6\n",
              "Name: CNPJ_CIA, Length: 1080, dtype: int64"
            ]
          },
          "metadata": {},
          "execution_count": 23
        }
      ]
    },
    {
      "cell_type": "code",
      "source": [
        "DRE_dfp = DRE_dfp.drop(['VERSAO','GRUPO_DFP','MOEDA','ST_CONTA_FIXA'],axis=1)\n",
        "\n",
        "#reodena colunas\n",
        "DRE_dfp = DRE_dfp[['CNPJ_CIA', 'DENOM_CIA', 'CD_CVM', 'DT_REFER','DT_INI_EXERC','DT_FIM_EXERC', 'ESCALA_MOEDA', 'CD_CONTA', 'DS_CONTA', 'VL_CONTA','ORDEM_EXERC']]\n",
        "\n",
        "# Defina a lista de valores que deseja manter\n",
        "valores_a_manter = ['3.01','3.03','3.05','3.07','3.11','3.13','3.99']\n",
        "# Mantenha as linhas que contêm os valores da lista na coluna 'DS_CONTA' e exclua as demais\n",
        "DRE_dfp = DRE_dfp.loc[DRE_dfp['CD_CONTA'].isin(valores_a_manter)]\n",
        "\n",
        "#separando os resultados\n",
        "DRE_dfp = DRE_dfp[DRE_dfp['ORDEM_EXERC'] == 'ÚLTIMO']\n",
        "DRE_dfp = DRE_dfp.drop(['ORDEM_EXERC','DT_INI_EXERC'],axis=1)"
      ],
      "metadata": {
        "id": "hR5NEuoWW2FQ"
      },
      "execution_count": 24,
      "outputs": []
    },
    {
      "cell_type": "code",
      "source": [
        "DRE_dfp['CNPJ_CIA'].value_counts()"
      ],
      "metadata": {
        "colab": {
          "base_uri": "https://localhost:8080/"
        },
        "id": "hJ4kfFkIW5lf",
        "outputId": "b24411a0-cb1e-4132-b160-c5fd7b4b87f3"
      },
      "execution_count": 25,
      "outputs": [
        {
          "output_type": "execute_result",
          "data": {
            "text/plain": [
              "65.654.303/0001-73    77\n",
              "91.669.747/0001-92    77\n",
              "33.040.601/0001-87    77\n",
              "02.682.287/0001-02    77\n",
              "30.306.294/0001-45    77\n",
              "                      ..\n",
              "12.592.746/0001-10     6\n",
              "01.287.588/0001-79     6\n",
              "12.668.780/0001-21     6\n",
              "12.668.792/0001-56     6\n",
              "87.870.952/0001-44     6\n",
              "Name: CNPJ_CIA, Length: 1079, dtype: int64"
            ]
          },
          "metadata": {},
          "execution_count": 25
        }
      ]
    },
    {
      "cell_type": "markdown",
      "source": [
        "Padronizando a DRE ITR para resultados acumulados"
      ],
      "metadata": {
        "id": "TYWr0tPSG8zI"
      }
    },
    {
      "cell_type": "code",
      "source": [
        "# Converter as colunas datas para o tipo datetime\n",
        "DRE_itr['DT_INI_EXERC'] = pd.to_datetime(DRE_itr['DT_INI_EXERC'])\n",
        "DRE_itr['DT_FIM_EXERC'] = pd.to_datetime(DRE_itr['DT_FIM_EXERC'])\n",
        "DRE_itr['DT_REFER'] = pd.to_datetime(DRE_itr['DT_REFER'])\n",
        "# Calcular a diferença de tempo entre DT_INI_EXERC e DT_FIM_EXERC\n",
        "DRE_itr['PERIODO'] = DRE_itr['DT_FIM_EXERC'] - DRE_itr['DT_INI_EXERC']\n",
        "DRE_itr['PERIODO_DIF'] = DRE_itr['PERIODO'].diff()\n",
        "# Substituindo 'NaT' por '0 days'\n",
        "DRE_itr['PERIODO_DIF'] = DRE_itr['PERIODO_DIF'].fillna(pd.Timedelta(0))\n",
        "# Eliminar as linhas de resultados trimestrais e manter os acumulados (como nos demais documentos)\n",
        "DRE_itr = DRE_itr[DRE_itr['PERIODO_DIF'] >= '-2 days' ]\n",
        "DRE_itr = DRE_itr.drop(['PERIODO_DIF','PERIODO'], axis=1)\n",
        "DRE_itr = DRE_itr.drop('DT_INI_EXERC', axis = 1)"
      ],
      "metadata": {
        "id": "z88ABloyG8cL"
      },
      "execution_count": 26,
      "outputs": []
    },
    {
      "cell_type": "markdown",
      "source": [
        "#Concatendando as bases de dados"
      ],
      "metadata": {
        "id": "O6sj7t8XJtcv"
      }
    },
    {
      "cell_type": "code",
      "source": [
        "df1 = pd.concat([BPA_itr,BPP_itr]).sort_values(by=['CNPJ_CIA', 'DENOM_CIA', 'CD_CVM','DT_REFER'])\n",
        "df2 = pd.concat([DRE_itr,DVA_itr]).sort_values(by=['CNPJ_CIA', 'DENOM_CIA', 'CD_CVM','DT_REFER'])\n",
        "df_itr = pd.concat([df1,df2]).sort_values(by=['CNPJ_CIA', 'DENOM_CIA', 'CD_CVM','DT_REFER'])\n",
        "\n",
        "df_itr['DT_FIM_EXERC']= pd.to_datetime(df_itr['DT_FIM_EXERC'])\n",
        "df_itr['DT_REFER']= pd.to_datetime(df_itr['DT_REFER'])\n",
        "\n",
        "df_itr = df_itr.sort_values(['CNPJ_CIA','DT_REFER'])"
      ],
      "metadata": {
        "colab": {
          "base_uri": "https://localhost:8080/"
        },
        "id": "ivJYBhiLHSiC",
        "outputId": "62c72da7-77d8-44fe-f2fe-94b193b7e6dd"
      },
      "execution_count": 27,
      "outputs": [
        {
          "output_type": "stream",
          "name": "stderr",
          "text": [
            "<ipython-input-27-e1c63037a91b>:2: FutureWarning: Inferring datetime64[ns] from data containing strings is deprecated and will be removed in a future version. To retain the old behavior explicitly pass Series(data, dtype=datetime64[ns])\n",
            "  df2 = pd.concat([DRE_itr,DVA_itr]).sort_values(by=['CNPJ_CIA', 'DENOM_CIA', 'CD_CVM','DT_REFER'])\n"
          ]
        }
      ]
    },
    {
      "cell_type": "code",
      "source": [
        "df3 = pd.concat([BPA_dfp,BPP_dfp]).sort_values(by=['CNPJ_CIA', 'DENOM_CIA', 'CD_CVM','DT_REFER'])\n",
        "df4 = pd.concat([DRE_dfp,DVA_dfp]).sort_values(by=['CNPJ_CIA', 'DENOM_CIA', 'CD_CVM','DT_REFER'])\n",
        "df_dfp = pd.concat([df3,df4]).sort_values(by=['CNPJ_CIA', 'DENOM_CIA', 'CD_CVM','DT_REFER'])\n",
        "\n",
        "df_dfp['DT_FIM_EXERC']= pd.to_datetime(df_dfp['DT_FIM_EXERC'])\n",
        "df_dfp['DT_REFER']= pd.to_datetime(df_dfp['DT_REFER'])\n",
        "\n",
        "df_dfp = df_dfp.sort_values(['CNPJ_CIA','DT_REFER'])"
      ],
      "metadata": {
        "id": "Z29RyDUoJ6Pv"
      },
      "execution_count": 28,
      "outputs": []
    },
    {
      "cell_type": "code",
      "source": [
        "df = pd.concat([df_itr,df_dfp]).sort_values(by=['CNPJ_CIA', 'DENOM_CIA', 'CD_CVM','DT_REFER','CD_CONTA'])\n",
        "df = df.reset_index(drop=True)\n",
        "df = df.drop_duplicates()"
      ],
      "metadata": {
        "id": "Bcb3vaBiKCxi"
      },
      "execution_count": 29,
      "outputs": []
    },
    {
      "cell_type": "markdown",
      "source": [
        "#Filtrando a base de dados para empresas relevantes"
      ],
      "metadata": {
        "id": "Pq0Oez6HPuqY"
      }
    },
    {
      "cell_type": "code",
      "source": [
        "df['CNPJ_CIA'].value_counts()"
      ],
      "metadata": {
        "colab": {
          "base_uri": "https://localhost:8080/"
        },
        "id": "yZx2-mkIPuRL",
        "outputId": "bebb0ca8-2e01-4d91-9515-e2872f99b068"
      },
      "execution_count": 30,
      "outputs": [
        {
          "output_type": "execute_result",
          "data": {
            "text/plain": [
              "02.682.287/0001-02    660\n",
              "59.285.411/0001-13    660\n",
              "15.144.017/0001-90    660\n",
              "65.654.303/0001-73    660\n",
              "17.184.037/0001-10    660\n",
              "                     ... \n",
              "09.347.916/0001-97     14\n",
              "60.394.723/0001-44     14\n",
              "03.820.456/0001-96     14\n",
              "39.881.421/0001-04     14\n",
              "16.838.421/0001-26     12\n",
              "Name: CNPJ_CIA, Length: 1118, dtype: int64"
            ]
          },
          "metadata": {},
          "execution_count": 30
        }
      ]
    },
    {
      "cell_type": "code",
      "source": [
        "df['DS_CONTA'].value_counts()"
      ],
      "metadata": {
        "colab": {
          "base_uri": "https://localhost:8080/"
        },
        "id": "mWZwm21yP_JA",
        "outputId": "3ddb0231-ad6d-4520-9387-6ae6722cd22f"
      },
      "execution_count": 31,
      "outputs": [
        {
          "output_type": "execute_result",
          "data": {
            "text/plain": [
              "Patrimônio Líquido                                        28505\n",
              "Passivo Total                                             28503\n",
              "Dividendos                                                28482\n",
              "Ativo Total                                               28471\n",
              "Juros sobre o Capital Próprio                             28429\n",
              "Passivo Circulante                                        28403\n",
              "Ativo Circulante                                          28390\n",
              "Lucro/Prejuízo do Período                                 28364\n",
              "Caixa e Equivalentes de Caixa                             27318\n",
              "Resultado Antes do Resultado Financeiro e dos Tributos    26712\n",
              "Resultado Bruto                                           26710\n",
              "Resultado Antes dos Tributos sobre o Lucro                26603\n",
              "Lucro por Ação - (Reais / Ação)                           26600\n",
              "Receita de Venda de Bens e/ou Serviços                    26524\n",
              "Disponibilidades                                           1775\n",
              "Lucro por Ação - (R$ / Ação)                               1761\n",
              "Reversão dos Juros sobre Capital Próprio                   1652\n",
              "Resultado Antes Tributação/Participações                   1652\n",
              "Resultado Operacional                                      1652\n",
              "Resultado Bruto Intermediação Financeira                   1652\n",
              "Receitas da Intermediação Financeira                       1648\n",
              "Resultado Líquido das Operações Continuadas                 109\n",
              "Outras Receitas e Despesas Operacionais                     109\n",
              "Receitas das Operações                                      109\n",
              "Resultado Bruto de Intermediação Financeira                 101\n",
              "Lucro por Ação (R$/Ação)                                    101\n",
              "Lucro ou Prejuízo Líquido do Período                        101\n",
              "Lucro ou Prejuízo das Operações Continuadas                 101\n",
              "Resultado antes dos Tributos sobre o Lucro                  101\n",
              "Receitas de Intermediação Financeira                        101\n",
              "D                                                             3\n",
              "Receita                                                       3\n",
              "Receita Bruta de Venda de Bens e/ou Serviços                  2\n",
              "a                                                             1\n",
              "Name: DS_CONTA, dtype: int64"
            ]
          },
          "metadata": {},
          "execution_count": 31
        }
      ]
    },
    {
      "cell_type": "markdown",
      "source": [
        "removendo empresas que não apresentam os resultados trimestralmente"
      ],
      "metadata": {
        "id": "aGvfz9oaSlcw"
      }
    },
    {
      "cell_type": "code",
      "source": [
        "contagem = df['CNPJ_CIA'].value_counts()\n",
        "df = df[df['CNPJ_CIA'].isin(contagem[contagem > 42].index)]\n",
        "# Iterar sobre os resultados da contagem\n",
        "#for valor, count in contagem.items():\n",
        "    #print(f\"Valor: {valor}, Contagem: {count}\")"
      ],
      "metadata": {
        "id": "DcCYvUe9P3rN"
      },
      "execution_count": 32,
      "outputs": []
    },
    {
      "cell_type": "markdown",
      "source": [
        "mesclando nomes e removendo balanço irrelevantes"
      ],
      "metadata": {
        "id": "QetntTMlSqvI"
      }
    },
    {
      "cell_type": "code",
      "source": [
        "df['DS_CONTA'] = df['DS_CONTA'].replace({\n",
        "    'Disponibilidades': 'Caixa',\n",
        "    'Caixa e Equivalentes de Caixa': 'Caixa',\n",
        "    'Lucro por Ação - (Reais / Ação)': 'Lucro por Ação',\n",
        "    'Lucro por Ação - (R$ / Ação)': 'Lucro por Ação',\n",
        "    'Lucro por Ação (R$/Ação)' : 'Lucro por Ação',\n",
        "    'Lucro ou Prejuízo Líquido do Período' : 'Lucro/Prejuízo do Período',\n",
        "    'a': 'Receitas',\n",
        "    'Receita Bruta de Venda de Bens e/ou Serviços' : 'Receitas',\n",
        "    'Receita de Venda de Bens e/ou Serviços' : 'Receitas',\n",
        "    'Receita' : 'Receitas',\n",
        "    'Receitas das Operações' : 'Receitas',\n",
        "    'Receitas da Intermediação Financeira' : 'Receitas',\n",
        "    'Receitas de Intermediação Financeira' : 'Receitas',\n",
        "    'Resultado Antes Tributação/Participações' : 'Resultado Antes dos Tributos sobre o Lucro',\n",
        "    'Resultado antes dos Tributos sobre o Lucro' : 'Resultado Antes dos Tributos sobre o Lucro',\n",
        "    'Resultado Bruto Intermediação Financeira' : 'Resultado Bruto',\n",
        "    'Resultado Bruto de Intermediação Financeira' : 'Resultado Bruto',\n",
        "    'Resultado Operacional' : 'Resultado Antes do Resultado Financeiro e dos Tributos'\n",
        "\n",
        "})"
      ],
      "metadata": {
        "id": "jxtl1zR6P-E_"
      },
      "execution_count": 33,
      "outputs": []
    },
    {
      "cell_type": "code",
      "source": [
        "df = df[~df['DS_CONTA'].isin(['Reversão dos Juros sobre Capital Próprio','Outras Receitas e Despesas Operacionais','Resultado Líquido das Operações Continuadas', 'Lucro ou Prejuízo das Operações Continuadas'])]"
      ],
      "metadata": {
        "id": "1l-0KHaHQMFQ"
      },
      "execution_count": 34,
      "outputs": []
    },
    {
      "cell_type": "markdown",
      "source": [
        "Padronizandos os nomes dos balanços"
      ],
      "metadata": {
        "id": "fWzB8VKVSt98"
      }
    },
    {
      "cell_type": "code",
      "source": [
        "df['DS_CONTA'] = df['DS_CONTA'].replace({\n",
        "    'Resultado Antes do Resultado Financeiro e dos Tributos': 'EBITDA',\n",
        "    'Resultado Antes dos Tributos sobre o Lucro': 'EBIT',\n",
        "    'Juros sobre o Capital Próprio': 'JCP',\n",
        "    'Lucro/Prejuízo do Período': 'Lucro Líquido',\n",
        "    'Resultado Bruto': 'Lucro Bruto',\n",
        "    'Lucro/Prejuízo do Período': 'Lucro',\n",
        "    'Receitas': 'Receita Total'\n",
        "\n",
        "})"
      ],
      "metadata": {
        "id": "9LHSkmfQSv7e",
        "colab": {
          "base_uri": "https://localhost:8080/"
        },
        "outputId": "432a2bbc-3f52-4966-98c8-f060935b6cf2"
      },
      "execution_count": 35,
      "outputs": [
        {
          "output_type": "stream",
          "name": "stderr",
          "text": [
            "<ipython-input-35-6dfe545ff298>:1: SettingWithCopyWarning: \n",
            "A value is trying to be set on a copy of a slice from a DataFrame.\n",
            "Try using .loc[row_indexer,col_indexer] = value instead\n",
            "\n",
            "See the caveats in the documentation: https://pandas.pydata.org/pandas-docs/stable/user_guide/indexing.html#returning-a-view-versus-a-copy\n",
            "  df['DS_CONTA'] = df['DS_CONTA'].replace({\n"
          ]
        }
      ]
    },
    {
      "cell_type": "markdown",
      "source": [
        "#Transpor a coluna DS_CONTA para colunas individuais"
      ],
      "metadata": {
        "id": "hI-khRXvS4z_"
      }
    },
    {
      "cell_type": "markdown",
      "source": [
        "eliminar colunas que não serão mais necessárias, mas para não perder informação da coluna \"ESCALA_MOEDA\" é necessário mulitplicar ou divididir a coluna \"VL_CONTA\""
      ],
      "metadata": {
        "id": "7PAsusOnS8dX"
      }
    },
    {
      "cell_type": "code",
      "source": [
        "df['VL_CONTA'] = df['VL_CONTA'].astype('float64')\n",
        "pd.set_option('display.float_format', '{:.4f}'.format)\n",
        "# Mapeamento para fatores multiplicativos\n",
        "escala_mapping = {'UNIDADE': 1000}\n",
        "\n",
        "# Função personalizada para multiplicar por fator de escala\n",
        "def multiply_by_scale(row):\n",
        "    escala = row['ESCALA_MOEDA']\n",
        "    if escala in escala_mapping:\n",
        "        return row['VL_CONTA'] / escala_mapping[escala]\n",
        "    else:\n",
        "        return row['VL_CONTA']\n",
        "\n",
        "# Aplicar a função personalizada na coluna 'VL_CONTA'\n",
        "df['VL_CONTA'] = df.apply(multiply_by_scale, axis=1)\n",
        "\n",
        "df = df.drop(['DT_FIM_EXERC','CD_CONTA','ESCALA_MOEDA'], axis =1)"
      ],
      "metadata": {
        "id": "UbL8kTxkS-Cm"
      },
      "execution_count": 36,
      "outputs": []
    },
    {
      "cell_type": "code",
      "source": [
        "df = df.pivot_table(index=['CNPJ_CIA','DENOM_CIA','CD_CVM','DT_REFER'], columns='DS_CONTA', values='VL_CONTA' ).reset_index()\n",
        "#reodena colunas\n",
        "df = df[['CNPJ_CIA', 'DENOM_CIA', 'CD_CVM', 'DT_REFER', 'Patrimônio Líquido', 'Ativo Total', 'Ativo Circulante', 'Passivo Total','Passivo Circulante', 'Receita Total',\n",
        "         'Lucro Bruto','EBIT', 'EBITDA', 'Lucro', 'Caixa', 'Dividendos', 'JCP', 'Lucro por Ação']]\n",
        "df = df.rename_axis(None, axis='columns')"
      ],
      "metadata": {
        "id": "aU9WgouVTWqM"
      },
      "execution_count": 37,
      "outputs": []
    },
    {
      "cell_type": "markdown",
      "source": [
        "#Inserindo Indicadores em um novo DF"
      ],
      "metadata": {
        "id": "SqK2JIO4iu45"
      }
    },
    {
      "cell_type": "code",
      "source": [
        "# Vetor de indicadores\n",
        "indicadores = ['CNPJ_CIA', 'DENOM_CIA', 'CD_CVM', 'DT_REFER','VPA','LPA','PAYOUT','PL/ATIVOS',\n",
        "                'PS/ATIVOS','DIV/PL','DIV/EBIT','DIV/EBITDA','M.EBITDA','ROE','ROIC','ROA','ILC','MLB','MLO','MLL','VLE']\n",
        "# Criar novo DataFrame com coluna de indicadores repetidos\n",
        "df2 = pd.DataFrame(columns=[indicadores])\n",
        "df2 = df2.assign(**{coluna: df[coluna] for coluna in ['CNPJ_CIA', 'DENOM_CIA', 'CD_CVM', 'DT_REFER']})"
      ],
      "metadata": {
        "id": "uJjO6VbjjAYG"
      },
      "execution_count": 38,
      "outputs": []
    },
    {
      "cell_type": "markdown",
      "source": [
        "Calculando os indicadores a partir dos balanços das empresas"
      ],
      "metadata": {
        "id": "zi93pcftMlME"
      }
    },
    {
      "cell_type": "code",
      "source": [
        "df2['LPA'] = df['Lucro por Ação']\n",
        "df2['VPA'] = df['Patrimônio Líquido'] / ( df['Lucro'] / df['Lucro por Ação'] )\n",
        "df2['PAYOUT'] = ( df['Dividendos'] + df['JCP'] ) / ( df['Lucro'])\n",
        "\n",
        "df2['PL/ATIVOS'] = df['Patrimônio Líquido'] / df['Ativo Total']\n",
        "df2['PS/ATIVOS'] = df['Passivo Total'] / df['Ativo Total']\n",
        "df2['DIV/PL'] = (df['Passivo Circulante'] - df['Caixa']) / df['Patrimônio Líquido']\n",
        "df2['DIV/EBIT'] = (df['Passivo Circulante'] - df['Caixa']) / df['EBIT']\n",
        "df2['DIV/EBITDA'] = (df['Passivo Circulante'] - df['Caixa']) / df['EBITDA']\n",
        "\n",
        "df2['M.EBITDA'] = df['EBITDA'] / df['Receita Total']\n",
        "df2['ROE'] = df['Lucro'] / df['Patrimônio Líquido']\n",
        "df2['ROA'] = df['Lucro'] / df['Ativo Total']\n",
        "df2['ROIC'] = df['EBIT'] / (df['Patrimônio Líquido'] + (df['Passivo Total'] - df['Passivo Circulante']))\n",
        "\n",
        "df2['ILC'] = df['Ativo Circulante'] / df['Passivo Circulante']\n",
        "df2['MLB'] = df['Lucro Bruto'] / df['Receita Total']\n",
        "df2['MLO'] = df['EBIT'] / df['Receita Total']\n",
        "df2['MLL'] = df['Lucro'] / df['Receita Total']\n",
        "\n",
        "# Calcular a variação percentual do lucro\n",
        "df2['VLE'] = df.groupby('CNPJ_CIA')['Lucro'].pct_change()\n",
        "#df2['VLE'] = (df['Lucro'] / df['Lucro'].shift(1)) - 1"
      ],
      "metadata": {
        "id": "lNp6nLFZEotQ"
      },
      "execution_count": 48,
      "outputs": []
    },
    {
      "cell_type": "code",
      "source": [
        "df2.head(10)"
      ],
      "metadata": {
        "colab": {
          "base_uri": "https://localhost:8080/",
          "height": 784
        },
        "id": "kYWwW7qdkw8q",
        "outputId": "3b1c434a-c0dc-4cc9-e056-d1fb02f39472"
      },
      "execution_count": 50,
      "outputs": [
        {
          "output_type": "execute_result",
          "data": {
            "text/plain": [
              "             CNPJ_CIA        DENOM_CIA CD_CVM   DT_REFER     VPA    LPA  \\\n",
              "0  00.000.000/0001-91  BCO BRASIL S.A.   1023 2011-03-31  0.0000 0.0000   \n",
              "1  00.000.000/0001-91  BCO BRASIL S.A.   1023 2011-06-30 18.9728 2.1891   \n",
              "2  00.000.000/0001-91  BCO BRASIL S.A.   1023 2011-09-30 19.6745 3.2000   \n",
              "3  00.000.000/0001-91  BCO BRASIL S.A.   1023 2011-12-31 20.3217 4.2802   \n",
              "4  00.000.000/0001-91  BCO BRASIL S.A.   1023 2012-03-31 20.8758 0.8915   \n",
              "5  00.000.000/0001-91  BCO BRASIL S.A.   1023 2012-06-30 21.6370 1.9390   \n",
              "6  00.000.000/0001-91  BCO BRASIL S.A.   1023 2012-09-30 22.2892 2.9188   \n",
              "7  00.000.000/0001-91  BCO BRASIL S.A.   1023 2012-12-31 22.9888 4.3023   \n",
              "8  00.000.000/0001-91  BCO BRASIL S.A.   1023 2013-03-31 21.6862 0.9057   \n",
              "9  00.000.000/0001-91  BCO BRASIL S.A.   1023 2013-06-30 21.9443 3.5212   \n",
              "\n",
              "  PAYOUT PL/ATIVOS PS/ATIVOS  DIV/PL  ... DIV/EBITDA M.EBITDA    ROE   ROIC  \\\n",
              "0 0.4000    0.0662    1.0000 10.0505  ...   118.6082   0.2191 0.0562 0.0146   \n",
              "1 0.4000    0.0665    1.0000  9.8713  ...    56.8123   0.2240 0.1154 0.0302   \n",
              "2 0.4000    0.0655    1.0000  9.7980  ...    43.9160   0.1860 0.1626 0.0368   \n",
              "3 0.4000    0.0653    1.0000  9.6865  ...    32.6106   0.1917 0.2106 0.0464   \n",
              "4 0.4000    0.0655    1.0000  9.4716  ...   164.7938   0.1528 0.0427 0.0088   \n",
              "5 0.4000    0.0644    1.0000  9.4589  ...    77.7476   0.1595 0.0896 0.0180   \n",
              "6 0.4000    0.0632    1.0000  9.8968  ...    58.3499   0.1561 0.1310 0.0256   \n",
              "7 0.4000    0.0627    1.0000 10.0228  ...    42.2973   0.1718 0.1871 0.0378   \n",
              "8 0.4000    0.0559    1.0000 11.2306  ...   199.4741   0.1650 0.0418 0.0076   \n",
              "9 0.4000    0.0549    1.0000 11.6000  ...   145.6190   0.1065 0.1605 0.0321   \n",
              "\n",
              "     ROA    ILC    MLB    MLO    MLL     VLE  \n",
              "0 0.0037 0.8585 0.3157 0.2197 0.1453     NaN  \n",
              "1 0.0077 0.8653 0.3207 0.2266 0.1488  1.1356  \n",
              "2 0.0107 0.8965 0.2678 0.1880 0.1356  0.4617  \n",
              "3 0.0138 0.9061 0.2732 0.1937 0.1360  0.3380  \n",
              "4 0.0028 0.9389 0.2823 0.1539 0.1135 -0.7914  \n",
              "5 0.0058 0.9202 0.2576 0.1609 0.1175  1.1750  \n",
              "6 0.0083 0.9017 0.2658 0.1580 0.1205  0.5048  \n",
              "7 0.0117 0.8738 0.2771 0.1854 0.1357  0.4724  \n",
              "8 0.0023 0.8781 0.3213 0.1654 0.1224 -0.7902  \n",
              "9 0.0088 0.8772 0.2486 0.3175 0.2145  2.8843  \n",
              "\n",
              "[10 rows x 21 columns]"
            ],
            "text/html": [
              "\n",
              "\n",
              "  <div id=\"df-a7410d4b-5a4f-4530-b1f3-e30b4334976a\">\n",
              "    <div class=\"colab-df-container\">\n",
              "      <div>\n",
              "<style scoped>\n",
              "    .dataframe tbody tr th:only-of-type {\n",
              "        vertical-align: middle;\n",
              "    }\n",
              "\n",
              "    .dataframe tbody tr th {\n",
              "        vertical-align: top;\n",
              "    }\n",
              "\n",
              "    .dataframe thead tr th {\n",
              "        text-align: left;\n",
              "    }\n",
              "</style>\n",
              "<table border=\"1\" class=\"dataframe\">\n",
              "  <thead>\n",
              "    <tr>\n",
              "      <th></th>\n",
              "      <th>CNPJ_CIA</th>\n",
              "      <th>DENOM_CIA</th>\n",
              "      <th>CD_CVM</th>\n",
              "      <th>DT_REFER</th>\n",
              "      <th>VPA</th>\n",
              "      <th>LPA</th>\n",
              "      <th>PAYOUT</th>\n",
              "      <th>PL/ATIVOS</th>\n",
              "      <th>PS/ATIVOS</th>\n",
              "      <th>DIV/PL</th>\n",
              "      <th>...</th>\n",
              "      <th>DIV/EBITDA</th>\n",
              "      <th>M.EBITDA</th>\n",
              "      <th>ROE</th>\n",
              "      <th>ROIC</th>\n",
              "      <th>ROA</th>\n",
              "      <th>ILC</th>\n",
              "      <th>MLB</th>\n",
              "      <th>MLO</th>\n",
              "      <th>MLL</th>\n",
              "      <th>VLE</th>\n",
              "    </tr>\n",
              "  </thead>\n",
              "  <tbody>\n",
              "    <tr>\n",
              "      <th>0</th>\n",
              "      <td>00.000.000/0001-91</td>\n",
              "      <td>BCO BRASIL S.A.</td>\n",
              "      <td>1023</td>\n",
              "      <td>2011-03-31</td>\n",
              "      <td>0.0000</td>\n",
              "      <td>0.0000</td>\n",
              "      <td>0.4000</td>\n",
              "      <td>0.0662</td>\n",
              "      <td>1.0000</td>\n",
              "      <td>10.0505</td>\n",
              "      <td>...</td>\n",
              "      <td>118.6082</td>\n",
              "      <td>0.2191</td>\n",
              "      <td>0.0562</td>\n",
              "      <td>0.0146</td>\n",
              "      <td>0.0037</td>\n",
              "      <td>0.8585</td>\n",
              "      <td>0.3157</td>\n",
              "      <td>0.2197</td>\n",
              "      <td>0.1453</td>\n",
              "      <td>NaN</td>\n",
              "    </tr>\n",
              "    <tr>\n",
              "      <th>1</th>\n",
              "      <td>00.000.000/0001-91</td>\n",
              "      <td>BCO BRASIL S.A.</td>\n",
              "      <td>1023</td>\n",
              "      <td>2011-06-30</td>\n",
              "      <td>18.9728</td>\n",
              "      <td>2.1891</td>\n",
              "      <td>0.4000</td>\n",
              "      <td>0.0665</td>\n",
              "      <td>1.0000</td>\n",
              "      <td>9.8713</td>\n",
              "      <td>...</td>\n",
              "      <td>56.8123</td>\n",
              "      <td>0.2240</td>\n",
              "      <td>0.1154</td>\n",
              "      <td>0.0302</td>\n",
              "      <td>0.0077</td>\n",
              "      <td>0.8653</td>\n",
              "      <td>0.3207</td>\n",
              "      <td>0.2266</td>\n",
              "      <td>0.1488</td>\n",
              "      <td>1.1356</td>\n",
              "    </tr>\n",
              "    <tr>\n",
              "      <th>2</th>\n",
              "      <td>00.000.000/0001-91</td>\n",
              "      <td>BCO BRASIL S.A.</td>\n",
              "      <td>1023</td>\n",
              "      <td>2011-09-30</td>\n",
              "      <td>19.6745</td>\n",
              "      <td>3.2000</td>\n",
              "      <td>0.4000</td>\n",
              "      <td>0.0655</td>\n",
              "      <td>1.0000</td>\n",
              "      <td>9.7980</td>\n",
              "      <td>...</td>\n",
              "      <td>43.9160</td>\n",
              "      <td>0.1860</td>\n",
              "      <td>0.1626</td>\n",
              "      <td>0.0368</td>\n",
              "      <td>0.0107</td>\n",
              "      <td>0.8965</td>\n",
              "      <td>0.2678</td>\n",
              "      <td>0.1880</td>\n",
              "      <td>0.1356</td>\n",
              "      <td>0.4617</td>\n",
              "    </tr>\n",
              "    <tr>\n",
              "      <th>3</th>\n",
              "      <td>00.000.000/0001-91</td>\n",
              "      <td>BCO BRASIL S.A.</td>\n",
              "      <td>1023</td>\n",
              "      <td>2011-12-31</td>\n",
              "      <td>20.3217</td>\n",
              "      <td>4.2802</td>\n",
              "      <td>0.4000</td>\n",
              "      <td>0.0653</td>\n",
              "      <td>1.0000</td>\n",
              "      <td>9.6865</td>\n",
              "      <td>...</td>\n",
              "      <td>32.6106</td>\n",
              "      <td>0.1917</td>\n",
              "      <td>0.2106</td>\n",
              "      <td>0.0464</td>\n",
              "      <td>0.0138</td>\n",
              "      <td>0.9061</td>\n",
              "      <td>0.2732</td>\n",
              "      <td>0.1937</td>\n",
              "      <td>0.1360</td>\n",
              "      <td>0.3380</td>\n",
              "    </tr>\n",
              "    <tr>\n",
              "      <th>4</th>\n",
              "      <td>00.000.000/0001-91</td>\n",
              "      <td>BCO BRASIL S.A.</td>\n",
              "      <td>1023</td>\n",
              "      <td>2012-03-31</td>\n",
              "      <td>20.8758</td>\n",
              "      <td>0.8915</td>\n",
              "      <td>0.4000</td>\n",
              "      <td>0.0655</td>\n",
              "      <td>1.0000</td>\n",
              "      <td>9.4716</td>\n",
              "      <td>...</td>\n",
              "      <td>164.7938</td>\n",
              "      <td>0.1528</td>\n",
              "      <td>0.0427</td>\n",
              "      <td>0.0088</td>\n",
              "      <td>0.0028</td>\n",
              "      <td>0.9389</td>\n",
              "      <td>0.2823</td>\n",
              "      <td>0.1539</td>\n",
              "      <td>0.1135</td>\n",
              "      <td>-0.7914</td>\n",
              "    </tr>\n",
              "    <tr>\n",
              "      <th>5</th>\n",
              "      <td>00.000.000/0001-91</td>\n",
              "      <td>BCO BRASIL S.A.</td>\n",
              "      <td>1023</td>\n",
              "      <td>2012-06-30</td>\n",
              "      <td>21.6370</td>\n",
              "      <td>1.9390</td>\n",
              "      <td>0.4000</td>\n",
              "      <td>0.0644</td>\n",
              "      <td>1.0000</td>\n",
              "      <td>9.4589</td>\n",
              "      <td>...</td>\n",
              "      <td>77.7476</td>\n",
              "      <td>0.1595</td>\n",
              "      <td>0.0896</td>\n",
              "      <td>0.0180</td>\n",
              "      <td>0.0058</td>\n",
              "      <td>0.9202</td>\n",
              "      <td>0.2576</td>\n",
              "      <td>0.1609</td>\n",
              "      <td>0.1175</td>\n",
              "      <td>1.1750</td>\n",
              "    </tr>\n",
              "    <tr>\n",
              "      <th>6</th>\n",
              "      <td>00.000.000/0001-91</td>\n",
              "      <td>BCO BRASIL S.A.</td>\n",
              "      <td>1023</td>\n",
              "      <td>2012-09-30</td>\n",
              "      <td>22.2892</td>\n",
              "      <td>2.9188</td>\n",
              "      <td>0.4000</td>\n",
              "      <td>0.0632</td>\n",
              "      <td>1.0000</td>\n",
              "      <td>9.8968</td>\n",
              "      <td>...</td>\n",
              "      <td>58.3499</td>\n",
              "      <td>0.1561</td>\n",
              "      <td>0.1310</td>\n",
              "      <td>0.0256</td>\n",
              "      <td>0.0083</td>\n",
              "      <td>0.9017</td>\n",
              "      <td>0.2658</td>\n",
              "      <td>0.1580</td>\n",
              "      <td>0.1205</td>\n",
              "      <td>0.5048</td>\n",
              "    </tr>\n",
              "    <tr>\n",
              "      <th>7</th>\n",
              "      <td>00.000.000/0001-91</td>\n",
              "      <td>BCO BRASIL S.A.</td>\n",
              "      <td>1023</td>\n",
              "      <td>2012-12-31</td>\n",
              "      <td>22.9888</td>\n",
              "      <td>4.3023</td>\n",
              "      <td>0.4000</td>\n",
              "      <td>0.0627</td>\n",
              "      <td>1.0000</td>\n",
              "      <td>10.0228</td>\n",
              "      <td>...</td>\n",
              "      <td>42.2973</td>\n",
              "      <td>0.1718</td>\n",
              "      <td>0.1871</td>\n",
              "      <td>0.0378</td>\n",
              "      <td>0.0117</td>\n",
              "      <td>0.8738</td>\n",
              "      <td>0.2771</td>\n",
              "      <td>0.1854</td>\n",
              "      <td>0.1357</td>\n",
              "      <td>0.4724</td>\n",
              "    </tr>\n",
              "    <tr>\n",
              "      <th>8</th>\n",
              "      <td>00.000.000/0001-91</td>\n",
              "      <td>BCO BRASIL S.A.</td>\n",
              "      <td>1023</td>\n",
              "      <td>2013-03-31</td>\n",
              "      <td>21.6862</td>\n",
              "      <td>0.9057</td>\n",
              "      <td>0.4000</td>\n",
              "      <td>0.0559</td>\n",
              "      <td>1.0000</td>\n",
              "      <td>11.2306</td>\n",
              "      <td>...</td>\n",
              "      <td>199.4741</td>\n",
              "      <td>0.1650</td>\n",
              "      <td>0.0418</td>\n",
              "      <td>0.0076</td>\n",
              "      <td>0.0023</td>\n",
              "      <td>0.8781</td>\n",
              "      <td>0.3213</td>\n",
              "      <td>0.1654</td>\n",
              "      <td>0.1224</td>\n",
              "      <td>-0.7902</td>\n",
              "    </tr>\n",
              "    <tr>\n",
              "      <th>9</th>\n",
              "      <td>00.000.000/0001-91</td>\n",
              "      <td>BCO BRASIL S.A.</td>\n",
              "      <td>1023</td>\n",
              "      <td>2013-06-30</td>\n",
              "      <td>21.9443</td>\n",
              "      <td>3.5212</td>\n",
              "      <td>0.4000</td>\n",
              "      <td>0.0549</td>\n",
              "      <td>1.0000</td>\n",
              "      <td>11.6000</td>\n",
              "      <td>...</td>\n",
              "      <td>145.6190</td>\n",
              "      <td>0.1065</td>\n",
              "      <td>0.1605</td>\n",
              "      <td>0.0321</td>\n",
              "      <td>0.0088</td>\n",
              "      <td>0.8772</td>\n",
              "      <td>0.2486</td>\n",
              "      <td>0.3175</td>\n",
              "      <td>0.2145</td>\n",
              "      <td>2.8843</td>\n",
              "    </tr>\n",
              "  </tbody>\n",
              "</table>\n",
              "<p>10 rows × 21 columns</p>\n",
              "</div>\n",
              "      <button class=\"colab-df-convert\" onclick=\"convertToInteractive('df-a7410d4b-5a4f-4530-b1f3-e30b4334976a')\"\n",
              "              title=\"Convert this dataframe to an interactive table.\"\n",
              "              style=\"display:none;\">\n",
              "\n",
              "  <svg xmlns=\"http://www.w3.org/2000/svg\" height=\"24px\"viewBox=\"0 0 24 24\"\n",
              "       width=\"24px\">\n",
              "    <path d=\"M0 0h24v24H0V0z\" fill=\"none\"/>\n",
              "    <path d=\"M18.56 5.44l.94 2.06.94-2.06 2.06-.94-2.06-.94-.94-2.06-.94 2.06-2.06.94zm-11 1L8.5 8.5l.94-2.06 2.06-.94-2.06-.94L8.5 2.5l-.94 2.06-2.06.94zm10 10l.94 2.06.94-2.06 2.06-.94-2.06-.94-.94-2.06-.94 2.06-2.06.94z\"/><path d=\"M17.41 7.96l-1.37-1.37c-.4-.4-.92-.59-1.43-.59-.52 0-1.04.2-1.43.59L10.3 9.45l-7.72 7.72c-.78.78-.78 2.05 0 2.83L4 21.41c.39.39.9.59 1.41.59.51 0 1.02-.2 1.41-.59l7.78-7.78 2.81-2.81c.8-.78.8-2.07 0-2.86zM5.41 20L4 18.59l7.72-7.72 1.47 1.35L5.41 20z\"/>\n",
              "  </svg>\n",
              "      </button>\n",
              "\n",
              "\n",
              "\n",
              "    <div id=\"df-7e26d841-62bc-405b-aa35-dffb07fade2f\">\n",
              "      <button class=\"colab-df-quickchart\" onclick=\"quickchart('df-7e26d841-62bc-405b-aa35-dffb07fade2f')\"\n",
              "              title=\"Suggest charts.\"\n",
              "              style=\"display:none;\">\n",
              "\n",
              "<svg xmlns=\"http://www.w3.org/2000/svg\" height=\"24px\"viewBox=\"0 0 24 24\"\n",
              "     width=\"24px\">\n",
              "    <g>\n",
              "        <path d=\"M19 3H5c-1.1 0-2 .9-2 2v14c0 1.1.9 2 2 2h14c1.1 0 2-.9 2-2V5c0-1.1-.9-2-2-2zM9 17H7v-7h2v7zm4 0h-2V7h2v10zm4 0h-2v-4h2v4z\"/>\n",
              "    </g>\n",
              "</svg>\n",
              "      </button>\n",
              "    </div>\n",
              "\n",
              "<style>\n",
              "  .colab-df-quickchart {\n",
              "    background-color: #E8F0FE;\n",
              "    border: none;\n",
              "    border-radius: 50%;\n",
              "    cursor: pointer;\n",
              "    display: none;\n",
              "    fill: #1967D2;\n",
              "    height: 32px;\n",
              "    padding: 0 0 0 0;\n",
              "    width: 32px;\n",
              "  }\n",
              "\n",
              "  .colab-df-quickchart:hover {\n",
              "    background-color: #E2EBFA;\n",
              "    box-shadow: 0px 1px 2px rgba(60, 64, 67, 0.3), 0px 1px 3px 1px rgba(60, 64, 67, 0.15);\n",
              "    fill: #174EA6;\n",
              "  }\n",
              "\n",
              "  [theme=dark] .colab-df-quickchart {\n",
              "    background-color: #3B4455;\n",
              "    fill: #D2E3FC;\n",
              "  }\n",
              "\n",
              "  [theme=dark] .colab-df-quickchart:hover {\n",
              "    background-color: #434B5C;\n",
              "    box-shadow: 0px 1px 3px 1px rgba(0, 0, 0, 0.15);\n",
              "    filter: drop-shadow(0px 1px 2px rgba(0, 0, 0, 0.3));\n",
              "    fill: #FFFFFF;\n",
              "  }\n",
              "</style>\n",
              "\n",
              "    <script>\n",
              "      async function quickchart(key) {\n",
              "        const containerElement = document.querySelector('#' + key);\n",
              "        const charts = await google.colab.kernel.invokeFunction(\n",
              "            'suggestCharts', [key], {});\n",
              "      }\n",
              "    </script>\n",
              "\n",
              "      <script>\n",
              "\n",
              "function displayQuickchartButton(domScope) {\n",
              "  let quickchartButtonEl =\n",
              "    domScope.querySelector('#df-7e26d841-62bc-405b-aa35-dffb07fade2f button.colab-df-quickchart');\n",
              "  quickchartButtonEl.style.display =\n",
              "    google.colab.kernel.accessAllowed ? 'block' : 'none';\n",
              "}\n",
              "\n",
              "        displayQuickchartButton(document);\n",
              "      </script>\n",
              "      <style>\n",
              "    .colab-df-container {\n",
              "      display:flex;\n",
              "      flex-wrap:wrap;\n",
              "      gap: 12px;\n",
              "    }\n",
              "\n",
              "    .colab-df-convert {\n",
              "      background-color: #E8F0FE;\n",
              "      border: none;\n",
              "      border-radius: 50%;\n",
              "      cursor: pointer;\n",
              "      display: none;\n",
              "      fill: #1967D2;\n",
              "      height: 32px;\n",
              "      padding: 0 0 0 0;\n",
              "      width: 32px;\n",
              "    }\n",
              "\n",
              "    .colab-df-convert:hover {\n",
              "      background-color: #E2EBFA;\n",
              "      box-shadow: 0px 1px 2px rgba(60, 64, 67, 0.3), 0px 1px 3px 1px rgba(60, 64, 67, 0.15);\n",
              "      fill: #174EA6;\n",
              "    }\n",
              "\n",
              "    [theme=dark] .colab-df-convert {\n",
              "      background-color: #3B4455;\n",
              "      fill: #D2E3FC;\n",
              "    }\n",
              "\n",
              "    [theme=dark] .colab-df-convert:hover {\n",
              "      background-color: #434B5C;\n",
              "      box-shadow: 0px 1px 3px 1px rgba(0, 0, 0, 0.15);\n",
              "      filter: drop-shadow(0px 1px 2px rgba(0, 0, 0, 0.3));\n",
              "      fill: #FFFFFF;\n",
              "    }\n",
              "  </style>\n",
              "\n",
              "      <script>\n",
              "        const buttonEl =\n",
              "          document.querySelector('#df-a7410d4b-5a4f-4530-b1f3-e30b4334976a button.colab-df-convert');\n",
              "        buttonEl.style.display =\n",
              "          google.colab.kernel.accessAllowed ? 'block' : 'none';\n",
              "\n",
              "        async function convertToInteractive(key) {\n",
              "          const element = document.querySelector('#df-a7410d4b-5a4f-4530-b1f3-e30b4334976a');\n",
              "          const dataTable =\n",
              "            await google.colab.kernel.invokeFunction('convertToInteractive',\n",
              "                                                     [key], {});\n",
              "          if (!dataTable) return;\n",
              "\n",
              "          const docLinkHtml = 'Like what you see? Visit the ' +\n",
              "            '<a target=\"_blank\" href=https://colab.research.google.com/notebooks/data_table.ipynb>data table notebook</a>'\n",
              "            + ' to learn more about interactive tables.';\n",
              "          element.innerHTML = '';\n",
              "          dataTable['output_type'] = 'display_data';\n",
              "          await google.colab.output.renderOutput(dataTable, element);\n",
              "          const docLink = document.createElement('div');\n",
              "          docLink.innerHTML = docLinkHtml;\n",
              "          element.appendChild(docLink);\n",
              "        }\n",
              "      </script>\n",
              "    </div>\n",
              "  </div>\n"
            ]
          },
          "metadata": {},
          "execution_count": 50
        }
      ]
    },
    {
      "cell_type": "code",
      "source": [
        "df.head(5)"
      ],
      "metadata": {
        "colab": {
          "base_uri": "https://localhost:8080/",
          "height": 478
        },
        "id": "uRyEGKUiQAdO",
        "outputId": "e2a2bddf-4a00-4de8-8d75-4139134af7e0"
      },
      "execution_count": 45,
      "outputs": [
        {
          "output_type": "execute_result",
          "data": {
            "text/plain": [
              "             CNPJ_CIA        DENOM_CIA  CD_CVM   DT_REFER  Patrimônio Líquido  \\\n",
              "0  00.000.000/0001-91  BCO BRASIL S.A.    1023 2011-03-31       52172709.0000   \n",
              "1  00.000.000/0001-91  BCO BRASIL S.A.    1023 2011-06-30       54276101.0000   \n",
              "2  00.000.000/0001-91  BCO BRASIL S.A.    1023 2011-09-30       56279126.0000   \n",
              "3  00.000.000/0001-91  BCO BRASIL S.A.    1023 2011-12-31       58148690.0000   \n",
              "4  00.000.000/0001-91  BCO BRASIL S.A.    1023 2012-03-31       59817963.0000   \n",
              "\n",
              "     Ativo Total  Ativo Circulante  Passivo Total  Passivo Circulante  \\\n",
              "0 787908489.0000    460670797.0000 787908489.0000      536607202.0000   \n",
              "1 816131152.0000    479955357.0000 816131152.0000      554643276.0000   \n",
              "2 859280120.0000    512077755.0000 859280120.0000      571192875.0000   \n",
              "3 890352257.0000    518716710.0000 890352257.0000      572481618.0000   \n",
              "4 913866693.0000    545372613.0000 913866693.0000      580836511.0000   \n",
              "\n",
              "   Receita Total   Lucro Bruto          EBIT        EBITDA         Lucro  \\\n",
              "0  20179781.0000  6371709.0000  4432807.0000  4420967.0000  2932363.0000   \n",
              "1  42097733.0000 13502837.0000  9539565.0000  9430620.0000  6262367.0000   \n",
              "2  67494104.0000 18072581.0000 12687580.0000 12556373.0000  9153653.0000   \n",
              "3  90080002.0000 24614257.0000 17448327.0000 17272140.0000 12247330.0000   \n",
              "4  22500822.0000  6351239.0000  3463122.0000  3438060.0000  2554434.0000   \n",
              "\n",
              "          Caixa   Dividendos          JCP  Lucro por Ação  \n",
              "0 12244142.0000  449024.0000  723921.0000          0.0000  \n",
              "1 18868357.0000 1044346.0000 1460601.0000          2.1891  \n",
              "2 19767405.0000 1405060.0000 2256401.0000          3.2000  \n",
              "3  9227217.0000 1847625.0000 3051308.0000          4.2802  \n",
              "4 14265629.0000  181408.0000  840365.0000          0.8915  "
            ],
            "text/html": [
              "\n",
              "\n",
              "  <div id=\"df-f6baa512-dba8-4088-8ada-2ea893913ea2\">\n",
              "    <div class=\"colab-df-container\">\n",
              "      <div>\n",
              "<style scoped>\n",
              "    .dataframe tbody tr th:only-of-type {\n",
              "        vertical-align: middle;\n",
              "    }\n",
              "\n",
              "    .dataframe tbody tr th {\n",
              "        vertical-align: top;\n",
              "    }\n",
              "\n",
              "    .dataframe thead th {\n",
              "        text-align: right;\n",
              "    }\n",
              "</style>\n",
              "<table border=\"1\" class=\"dataframe\">\n",
              "  <thead>\n",
              "    <tr style=\"text-align: right;\">\n",
              "      <th></th>\n",
              "      <th>CNPJ_CIA</th>\n",
              "      <th>DENOM_CIA</th>\n",
              "      <th>CD_CVM</th>\n",
              "      <th>DT_REFER</th>\n",
              "      <th>Patrimônio Líquido</th>\n",
              "      <th>Ativo Total</th>\n",
              "      <th>Ativo Circulante</th>\n",
              "      <th>Passivo Total</th>\n",
              "      <th>Passivo Circulante</th>\n",
              "      <th>Receita Total</th>\n",
              "      <th>Lucro Bruto</th>\n",
              "      <th>EBIT</th>\n",
              "      <th>EBITDA</th>\n",
              "      <th>Lucro</th>\n",
              "      <th>Caixa</th>\n",
              "      <th>Dividendos</th>\n",
              "      <th>JCP</th>\n",
              "      <th>Lucro por Ação</th>\n",
              "    </tr>\n",
              "  </thead>\n",
              "  <tbody>\n",
              "    <tr>\n",
              "      <th>0</th>\n",
              "      <td>00.000.000/0001-91</td>\n",
              "      <td>BCO BRASIL S.A.</td>\n",
              "      <td>1023</td>\n",
              "      <td>2011-03-31</td>\n",
              "      <td>52172709.0000</td>\n",
              "      <td>787908489.0000</td>\n",
              "      <td>460670797.0000</td>\n",
              "      <td>787908489.0000</td>\n",
              "      <td>536607202.0000</td>\n",
              "      <td>20179781.0000</td>\n",
              "      <td>6371709.0000</td>\n",
              "      <td>4432807.0000</td>\n",
              "      <td>4420967.0000</td>\n",
              "      <td>2932363.0000</td>\n",
              "      <td>12244142.0000</td>\n",
              "      <td>449024.0000</td>\n",
              "      <td>723921.0000</td>\n",
              "      <td>0.0000</td>\n",
              "    </tr>\n",
              "    <tr>\n",
              "      <th>1</th>\n",
              "      <td>00.000.000/0001-91</td>\n",
              "      <td>BCO BRASIL S.A.</td>\n",
              "      <td>1023</td>\n",
              "      <td>2011-06-30</td>\n",
              "      <td>54276101.0000</td>\n",
              "      <td>816131152.0000</td>\n",
              "      <td>479955357.0000</td>\n",
              "      <td>816131152.0000</td>\n",
              "      <td>554643276.0000</td>\n",
              "      <td>42097733.0000</td>\n",
              "      <td>13502837.0000</td>\n",
              "      <td>9539565.0000</td>\n",
              "      <td>9430620.0000</td>\n",
              "      <td>6262367.0000</td>\n",
              "      <td>18868357.0000</td>\n",
              "      <td>1044346.0000</td>\n",
              "      <td>1460601.0000</td>\n",
              "      <td>2.1891</td>\n",
              "    </tr>\n",
              "    <tr>\n",
              "      <th>2</th>\n",
              "      <td>00.000.000/0001-91</td>\n",
              "      <td>BCO BRASIL S.A.</td>\n",
              "      <td>1023</td>\n",
              "      <td>2011-09-30</td>\n",
              "      <td>56279126.0000</td>\n",
              "      <td>859280120.0000</td>\n",
              "      <td>512077755.0000</td>\n",
              "      <td>859280120.0000</td>\n",
              "      <td>571192875.0000</td>\n",
              "      <td>67494104.0000</td>\n",
              "      <td>18072581.0000</td>\n",
              "      <td>12687580.0000</td>\n",
              "      <td>12556373.0000</td>\n",
              "      <td>9153653.0000</td>\n",
              "      <td>19767405.0000</td>\n",
              "      <td>1405060.0000</td>\n",
              "      <td>2256401.0000</td>\n",
              "      <td>3.2000</td>\n",
              "    </tr>\n",
              "    <tr>\n",
              "      <th>3</th>\n",
              "      <td>00.000.000/0001-91</td>\n",
              "      <td>BCO BRASIL S.A.</td>\n",
              "      <td>1023</td>\n",
              "      <td>2011-12-31</td>\n",
              "      <td>58148690.0000</td>\n",
              "      <td>890352257.0000</td>\n",
              "      <td>518716710.0000</td>\n",
              "      <td>890352257.0000</td>\n",
              "      <td>572481618.0000</td>\n",
              "      <td>90080002.0000</td>\n",
              "      <td>24614257.0000</td>\n",
              "      <td>17448327.0000</td>\n",
              "      <td>17272140.0000</td>\n",
              "      <td>12247330.0000</td>\n",
              "      <td>9227217.0000</td>\n",
              "      <td>1847625.0000</td>\n",
              "      <td>3051308.0000</td>\n",
              "      <td>4.2802</td>\n",
              "    </tr>\n",
              "    <tr>\n",
              "      <th>4</th>\n",
              "      <td>00.000.000/0001-91</td>\n",
              "      <td>BCO BRASIL S.A.</td>\n",
              "      <td>1023</td>\n",
              "      <td>2012-03-31</td>\n",
              "      <td>59817963.0000</td>\n",
              "      <td>913866693.0000</td>\n",
              "      <td>545372613.0000</td>\n",
              "      <td>913866693.0000</td>\n",
              "      <td>580836511.0000</td>\n",
              "      <td>22500822.0000</td>\n",
              "      <td>6351239.0000</td>\n",
              "      <td>3463122.0000</td>\n",
              "      <td>3438060.0000</td>\n",
              "      <td>2554434.0000</td>\n",
              "      <td>14265629.0000</td>\n",
              "      <td>181408.0000</td>\n",
              "      <td>840365.0000</td>\n",
              "      <td>0.8915</td>\n",
              "    </tr>\n",
              "  </tbody>\n",
              "</table>\n",
              "</div>\n",
              "      <button class=\"colab-df-convert\" onclick=\"convertToInteractive('df-f6baa512-dba8-4088-8ada-2ea893913ea2')\"\n",
              "              title=\"Convert this dataframe to an interactive table.\"\n",
              "              style=\"display:none;\">\n",
              "\n",
              "  <svg xmlns=\"http://www.w3.org/2000/svg\" height=\"24px\"viewBox=\"0 0 24 24\"\n",
              "       width=\"24px\">\n",
              "    <path d=\"M0 0h24v24H0V0z\" fill=\"none\"/>\n",
              "    <path d=\"M18.56 5.44l.94 2.06.94-2.06 2.06-.94-2.06-.94-.94-2.06-.94 2.06-2.06.94zm-11 1L8.5 8.5l.94-2.06 2.06-.94-2.06-.94L8.5 2.5l-.94 2.06-2.06.94zm10 10l.94 2.06.94-2.06 2.06-.94-2.06-.94-.94-2.06-.94 2.06-2.06.94z\"/><path d=\"M17.41 7.96l-1.37-1.37c-.4-.4-.92-.59-1.43-.59-.52 0-1.04.2-1.43.59L10.3 9.45l-7.72 7.72c-.78.78-.78 2.05 0 2.83L4 21.41c.39.39.9.59 1.41.59.51 0 1.02-.2 1.41-.59l7.78-7.78 2.81-2.81c.8-.78.8-2.07 0-2.86zM5.41 20L4 18.59l7.72-7.72 1.47 1.35L5.41 20z\"/>\n",
              "  </svg>\n",
              "      </button>\n",
              "\n",
              "\n",
              "\n",
              "    <div id=\"df-efb20a2d-58d8-4b80-b1ea-89ed0ede2bd2\">\n",
              "      <button class=\"colab-df-quickchart\" onclick=\"quickchart('df-efb20a2d-58d8-4b80-b1ea-89ed0ede2bd2')\"\n",
              "              title=\"Suggest charts.\"\n",
              "              style=\"display:none;\">\n",
              "\n",
              "<svg xmlns=\"http://www.w3.org/2000/svg\" height=\"24px\"viewBox=\"0 0 24 24\"\n",
              "     width=\"24px\">\n",
              "    <g>\n",
              "        <path d=\"M19 3H5c-1.1 0-2 .9-2 2v14c0 1.1.9 2 2 2h14c1.1 0 2-.9 2-2V5c0-1.1-.9-2-2-2zM9 17H7v-7h2v7zm4 0h-2V7h2v10zm4 0h-2v-4h2v4z\"/>\n",
              "    </g>\n",
              "</svg>\n",
              "      </button>\n",
              "    </div>\n",
              "\n",
              "<style>\n",
              "  .colab-df-quickchart {\n",
              "    background-color: #E8F0FE;\n",
              "    border: none;\n",
              "    border-radius: 50%;\n",
              "    cursor: pointer;\n",
              "    display: none;\n",
              "    fill: #1967D2;\n",
              "    height: 32px;\n",
              "    padding: 0 0 0 0;\n",
              "    width: 32px;\n",
              "  }\n",
              "\n",
              "  .colab-df-quickchart:hover {\n",
              "    background-color: #E2EBFA;\n",
              "    box-shadow: 0px 1px 2px rgba(60, 64, 67, 0.3), 0px 1px 3px 1px rgba(60, 64, 67, 0.15);\n",
              "    fill: #174EA6;\n",
              "  }\n",
              "\n",
              "  [theme=dark] .colab-df-quickchart {\n",
              "    background-color: #3B4455;\n",
              "    fill: #D2E3FC;\n",
              "  }\n",
              "\n",
              "  [theme=dark] .colab-df-quickchart:hover {\n",
              "    background-color: #434B5C;\n",
              "    box-shadow: 0px 1px 3px 1px rgba(0, 0, 0, 0.15);\n",
              "    filter: drop-shadow(0px 1px 2px rgba(0, 0, 0, 0.3));\n",
              "    fill: #FFFFFF;\n",
              "  }\n",
              "</style>\n",
              "\n",
              "    <script>\n",
              "      async function quickchart(key) {\n",
              "        const containerElement = document.querySelector('#' + key);\n",
              "        const charts = await google.colab.kernel.invokeFunction(\n",
              "            'suggestCharts', [key], {});\n",
              "      }\n",
              "    </script>\n",
              "\n",
              "      <script>\n",
              "\n",
              "function displayQuickchartButton(domScope) {\n",
              "  let quickchartButtonEl =\n",
              "    domScope.querySelector('#df-efb20a2d-58d8-4b80-b1ea-89ed0ede2bd2 button.colab-df-quickchart');\n",
              "  quickchartButtonEl.style.display =\n",
              "    google.colab.kernel.accessAllowed ? 'block' : 'none';\n",
              "}\n",
              "\n",
              "        displayQuickchartButton(document);\n",
              "      </script>\n",
              "      <style>\n",
              "    .colab-df-container {\n",
              "      display:flex;\n",
              "      flex-wrap:wrap;\n",
              "      gap: 12px;\n",
              "    }\n",
              "\n",
              "    .colab-df-convert {\n",
              "      background-color: #E8F0FE;\n",
              "      border: none;\n",
              "      border-radius: 50%;\n",
              "      cursor: pointer;\n",
              "      display: none;\n",
              "      fill: #1967D2;\n",
              "      height: 32px;\n",
              "      padding: 0 0 0 0;\n",
              "      width: 32px;\n",
              "    }\n",
              "\n",
              "    .colab-df-convert:hover {\n",
              "      background-color: #E2EBFA;\n",
              "      box-shadow: 0px 1px 2px rgba(60, 64, 67, 0.3), 0px 1px 3px 1px rgba(60, 64, 67, 0.15);\n",
              "      fill: #174EA6;\n",
              "    }\n",
              "\n",
              "    [theme=dark] .colab-df-convert {\n",
              "      background-color: #3B4455;\n",
              "      fill: #D2E3FC;\n",
              "    }\n",
              "\n",
              "    [theme=dark] .colab-df-convert:hover {\n",
              "      background-color: #434B5C;\n",
              "      box-shadow: 0px 1px 3px 1px rgba(0, 0, 0, 0.15);\n",
              "      filter: drop-shadow(0px 1px 2px rgba(0, 0, 0, 0.3));\n",
              "      fill: #FFFFFF;\n",
              "    }\n",
              "  </style>\n",
              "\n",
              "      <script>\n",
              "        const buttonEl =\n",
              "          document.querySelector('#df-f6baa512-dba8-4088-8ada-2ea893913ea2 button.colab-df-convert');\n",
              "        buttonEl.style.display =\n",
              "          google.colab.kernel.accessAllowed ? 'block' : 'none';\n",
              "\n",
              "        async function convertToInteractive(key) {\n",
              "          const element = document.querySelector('#df-f6baa512-dba8-4088-8ada-2ea893913ea2');\n",
              "          const dataTable =\n",
              "            await google.colab.kernel.invokeFunction('convertToInteractive',\n",
              "                                                     [key], {});\n",
              "          if (!dataTable) return;\n",
              "\n",
              "          const docLinkHtml = 'Like what you see? Visit the ' +\n",
              "            '<a target=\"_blank\" href=https://colab.research.google.com/notebooks/data_table.ipynb>data table notebook</a>'\n",
              "            + ' to learn more about interactive tables.';\n",
              "          element.innerHTML = '';\n",
              "          dataTable['output_type'] = 'display_data';\n",
              "          await google.colab.output.renderOutput(dataTable, element);\n",
              "          const docLink = document.createElement('div');\n",
              "          docLink.innerHTML = docLinkHtml;\n",
              "          element.appendChild(docLink);\n",
              "        }\n",
              "      </script>\n",
              "    </div>\n",
              "  </div>\n"
            ]
          },
          "metadata": {},
          "execution_count": 45
        }
      ]
    },
    {
      "cell_type": "code",
      "source": [
        "df.to_csv('balanço_empresas_2011-2022.csv', index=True, header = True)\n",
        "df2.to_csv('indicadores_empresas_2011-2022.csv', index=True, header = True)"
      ],
      "metadata": {
        "id": "1Q9ay9AXKElr"
      },
      "execution_count": 52,
      "outputs": []
    }
  ]
}